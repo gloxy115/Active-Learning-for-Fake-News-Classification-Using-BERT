{
  "nbformat": 4,
  "nbformat_minor": 0,
  "metadata": {
    "colab": {
      "name": "Experiment 1: Baseline Models(LR, LSTM).ipynb",
      "provenance": [],
      "collapsed_sections": [],
      "authorship_tag": "ABX9TyOTrcIBZahjHgJLfeO9Ipze",
      "include_colab_link": true
    },
    "kernelspec": {
      "name": "python3",
      "display_name": "Python 3"
    },
    "language_info": {
      "name": "python"
    },
    "accelerator": "GPU",
    "gpuClass": "standard"
  },
  "cells": [
    {
      "cell_type": "markdown",
      "metadata": {
        "id": "view-in-github",
        "colab_type": "text"
      },
      "source": [
        "<a href=\"https://colab.research.google.com/github/gloxy115/Active-Learning-for-Fake-News-Classification-Using-BERT/blob/main/Experiment_1_Baseline_Models(LR%2C_LSTM).ipynb\" target=\"_parent\"><img src=\"https://colab.research.google.com/assets/colab-badge.svg\" alt=\"Open In Colab\"/></a>"
      ]
    },
    {
      "cell_type": "code",
      "execution_count": 1,
      "metadata": {
        "colab": {
          "base_uri": "https://localhost:8080/"
        },
        "id": "u1V4C9VteIaF",
        "outputId": "cc96c365-391e-4347-aef3-a1f52dc8dacd"
      },
      "outputs": [
        {
          "output_type": "stream",
          "name": "stdout",
          "text": [
            "Mounted at /content/drive\n"
          ]
        }
      ],
      "source": [
        "from google.colab import drive\n",
        "drive.mount('/content/drive')"
      ]
    },
    {
      "cell_type": "code",
      "source": [
        "path = '/content/drive/MyDrive/'\n",
        "import matplotlib.pyplot as plt\n",
        "%matplotlib inline\n",
        "import sys\n",
        "import numpy as np\n",
        "import pandas as pd\n",
        "import os\n",
        "import random\n",
        "import heapq\n",
        "import gc\n",
        "from scipy.spatial import distance_matrix\n",
        "from IPython import display\n",
        "import re\n",
        "from sklearn.model_selection import train_test_split\n",
        "from sklearn.metrics import accuracy_score, confusion_matrix, precision_score, recall_score, f1_score,classification_report\n",
        "from sklearn.feature_extraction.text import CountVectorizer\n",
        "from sklearn.linear_model import LogisticRegression\n",
        "from sklearn.pipeline import make_pipeline\n",
        "import tensorflow as tf\n",
        "from tensorflow.keras.preprocessing.text import Tokenizer\n",
        "from keras.preprocessing.sequence import pad_sequences\n",
        "from keras.models import Sequential\n",
        "from keras import layers\n",
        "from keras.wrappers.scikit_learn import KerasClassifier"
      ],
      "metadata": {
        "id": "kMQaXmXoDHul"
      },
      "execution_count": 2,
      "outputs": []
    },
    {
      "cell_type": "code",
      "source": [
        "!pip install git+https://github.com/modAL-python/modAL.git  #install modAL package"
      ],
      "metadata": {
        "colab": {
          "base_uri": "https://localhost:8080/"
        },
        "id": "vkH1zG47kdPl",
        "outputId": "e5e13717-f911-49af-97b6-d7e2b4b58b16"
      },
      "execution_count": 3,
      "outputs": [
        {
          "output_type": "stream",
          "name": "stdout",
          "text": [
            "Looking in indexes: https://pypi.org/simple, https://us-python.pkg.dev/colab-wheels/public/simple/\n",
            "Collecting git+https://github.com/modAL-python/modAL.git\n",
            "  Cloning https://github.com/modAL-python/modAL.git to /tmp/pip-req-build-_g0yjmnh\n",
            "  Running command git clone -q https://github.com/modAL-python/modAL.git /tmp/pip-req-build-_g0yjmnh\n",
            "Requirement already satisfied: numpy>=1.13 in /usr/local/lib/python3.7/dist-packages (from modAL==0.4.1) (1.21.6)\n",
            "Requirement already satisfied: scikit-learn>=0.18 in /usr/local/lib/python3.7/dist-packages (from modAL==0.4.1) (1.0.2)\n",
            "Requirement already satisfied: scipy>=0.18 in /usr/local/lib/python3.7/dist-packages (from modAL==0.4.1) (1.4.1)\n",
            "Requirement already satisfied: pandas>=1.1.0 in /usr/local/lib/python3.7/dist-packages (from modAL==0.4.1) (1.3.5)\n",
            "Requirement already satisfied: python-dateutil>=2.7.3 in /usr/local/lib/python3.7/dist-packages (from pandas>=1.1.0->modAL==0.4.1) (2.8.2)\n",
            "Requirement already satisfied: pytz>=2017.3 in /usr/local/lib/python3.7/dist-packages (from pandas>=1.1.0->modAL==0.4.1) (2022.1)\n",
            "Requirement already satisfied: six>=1.5 in /usr/local/lib/python3.7/dist-packages (from python-dateutil>=2.7.3->pandas>=1.1.0->modAL==0.4.1) (1.15.0)\n",
            "Requirement already satisfied: threadpoolctl>=2.0.0 in /usr/local/lib/python3.7/dist-packages (from scikit-learn>=0.18->modAL==0.4.1) (3.1.0)\n",
            "Requirement already satisfied: joblib>=0.11 in /usr/local/lib/python3.7/dist-packages (from scikit-learn>=0.18->modAL==0.4.1) (1.1.0)\n"
          ]
        }
      ]
    },
    {
      "cell_type": "code",
      "source": [
        "from modAL.models import ActiveLearner\n",
        "from modAL.uncertainty import uncertainty_sampling   #randomsampling is not included in the package so is defined as a function later"
      ],
      "metadata": {
        "id": "0_raqaB-FRCB"
      },
      "execution_count": 4,
      "outputs": []
    },
    {
      "cell_type": "code",
      "source": [
        "def set_seed(x):  #setting the seed so the initial result is same for the same model\n",
        "  seed_value= x\n",
        "  # 1. Set `PYTHONHASHSEED` environment variable at a fixed value\n",
        "  os.environ['PYTHONHASHSEED']=str(seed_value)\n",
        "\n",
        "  # 2. Set `python` built-in pseudo-random generator at a fixed valu\n",
        "  random.seed(seed_value)\n",
        "\n",
        "  # 3. Set `numpy` pseudo-random generator at a fixed value\n",
        "\n",
        "  np.random.seed(seed_value)\n",
        "\n",
        "# 4. Set the `tensorflow` pseudo-random generator at a fixed value\n",
        "\n",
        "  tf.random.set_seed(seed_value)\n",
        "\n",
        "# 5. Configure a new global `tensorflow` session\n",
        "  from keras import backend as K\n",
        "\n",
        "  session_conf = tf.compat.v1.ConfigProto(intra_op_parallelism_threads=1, inter_op_parallelism_threads=1)\n",
        "  sess = tf.compat.v1.Session(graph=tf.compat.v1.get_default_graph(), config=session_conf)\n",
        "  tf.compat.v1.keras.backend.set_session(sess)\n",
        "  tf.keras.utils.set_random_seed(seed_value)  # sets seeds for base-python, numpy and tf\n",
        "  tf.config.experimental.enable_op_determinism()\n"
      ],
      "metadata": {
        "id": "obQIuyUzxV_V"
      },
      "execution_count": 5,
      "outputs": []
    },
    {
      "cell_type": "code",
      "source": [
        "seedn=111"
      ],
      "metadata": {
        "id": "yRrYOZhJrMib"
      },
      "execution_count": 6,
      "outputs": []
    },
    {
      "cell_type": "markdown",
      "source": [
        "# select a data to have it as a train_data, in this notebook, I ran it for ISOT"
      ],
      "metadata": {
        "id": "1hrnFVndGAN4"
      }
    },
    {
      "cell_type": "code",
      "source": [
        "#ISOT\n",
        "\n",
        "train_data = pd.read_csv(path + 'ISOT_may.csv', encoding=\"ISO-8859-1\")\n"
      ],
      "metadata": {
        "id": "FBmkz5lLkBO6"
      },
      "execution_count": 7,
      "outputs": []
    },
    {
      "cell_type": "code",
      "source": [
        "#politifact\n",
        "\n",
        "#train_data = pd.read_csv(path + 'Politifact_may.csv', encoding=\"ISO-8859-1\")\n",
        "#train_data.rename({'sentiment':'labels'}, axis=1, inplace=True)"
      ],
      "metadata": {
        "id": "KJqPvn1PkCJ_"
      },
      "execution_count": 8,
      "outputs": []
    },
    {
      "cell_type": "code",
      "source": [
        "#cc\n",
        "\n",
        "#train_data = pd.read_csv(path + 'CC_may.csv', encoding=\"ISO-8859-1\")\n"
      ],
      "metadata": {
        "id": "YBD01E5_kO9x"
      },
      "execution_count": 9,
      "outputs": []
    },
    {
      "cell_type": "code",
      "source": [
        "#kaggle\n",
        "\n",
        "#train_data = pd.read_csv(path + 'Kaggle_may.csv', encoding=\"ISO-8859-1\")\n"
      ],
      "metadata": {
        "id": "h4Y3vxAqkRVZ"
      },
      "execution_count": 10,
      "outputs": []
    },
    {
      "cell_type": "code",
      "source": [
        "#covid\n",
        "\n",
        "#train_data = pd.read_csv(path + 'Covid_may.csv', encoding=\"ISO-8859-1\")\n"
      ],
      "metadata": {
        "id": "Xe5tyczBJGR_"
      },
      "execution_count": 11,
      "outputs": []
    },
    {
      "cell_type": "markdown",
      "source": [
        "Prep"
      ],
      "metadata": {
        "id": "8x9AshsxEQAP"
      }
    },
    {
      "cell_type": "code",
      "source": [
        "set_seed(seedn)  #setting the seed "
      ],
      "metadata": {
        "id": "NrUqiVXptd1B"
      },
      "execution_count": 8,
      "outputs": []
    },
    {
      "cell_type": "code",
      "source": [
        "def trun(data):  #this function truncates the text data so its same length(510) as the input for BERT\n",
        "    normalized = []\n",
        "    for i in data:\n",
        "        i = ' '.join(i.split()[:510])\n",
        "        normalized.append(i)\n",
        "    return normalized"
      ],
      "metadata": {
        "id": "TkqJMwVOMANo"
      },
      "execution_count": 9,
      "outputs": []
    },
    {
      "cell_type": "code",
      "source": [
        "TEST_SIZE=0.3 #30% of the dataset is test data\n",
        "\n",
        "train_data=train_data.dropna()\n",
        "train_data=train_data[['text','labels']]  \n",
        "train_data=train_data.drop_duplicates(subset=['text', 'labels'], keep='last')\n",
        "\n",
        "if len(train_data)>15000:  # if the dataset is more than 15000 instances, randomly select 15000\n",
        "  train_data = train_data.sample(15000).reset_index(drop=True)\n",
        "\n",
        "train_data, test_data = train_test_split(train_data, test_size=TEST_SIZE)\n",
        "train_data = train_data.reset_index(drop=True)\n",
        "\n",
        "##first 510 words\n",
        "train_data['text']=trun(train_data['text'])\n",
        "train_data = train_data.to_dict(orient='records')\n",
        "test_data = test_data.to_dict(orient='records')\n",
        "train_texts, train_labels = list(zip(*map(lambda d: (d['text'], d['labels']), train_data)))\n",
        "test_texts, test_labels = list(zip(*map(lambda d: (d['text'], d['labels']), test_data)))\n",
        "\n",
        "train_y = np.array(train_labels) == 1\n",
        "test_y = np.array(test_labels) == 1"
      ],
      "metadata": {
        "id": "1SacMNzHESaz"
      },
      "execution_count": 10,
      "outputs": []
    },
    {
      "cell_type": "markdown",
      "source": [
        "Logistic Regression with modAL package"
      ],
      "metadata": {
        "id": "GPPE_qBKD2Rj"
      }
    },
    {
      "cell_type": "code",
      "source": [
        "vectorizer = CountVectorizer(ngram_range=(1,3))\n",
        "e=vectorizer.fit_transform(train_texts)\n",
        "l=vectorizer.transform(test_texts)\n",
        "\n",
        "# assemble initial data\n",
        "n_initial = 100\n",
        "\n",
        "#stratified initial batch \n",
        "idx_False=np.where(train_y == False)[0]\n",
        "idx_True=np.where(train_y== True)[0]\n",
        "k=int(len(np.where(train_y == False)[0])/len(train_y)*100) #this is the ratio of the original dataset\n",
        "    \n",
        "initial_False=random.sample(idx_False.tolist(),k) \n",
        "initial_True=random.sample(idx_True.tolist(),n_initial -k)\n",
        "    \n",
        "initial_idx=initial_False+initial_True\n",
        "\n",
        "\n",
        "\n",
        "X_initial = np.array(train_texts)[initial_idx]\n",
        "y_initial = np.array(train_labels)[initial_idx]\n",
        "\n",
        "# generate the pool\n",
        "# remove the initial data from the training dataset\n",
        "X_pool = np.delete(train_texts, initial_idx, axis=0)\n",
        "y_pool = np.delete(train_labels, initial_idx, axis=0)"
      ],
      "metadata": {
        "id": "Q7H9W63gg6zF"
      },
      "execution_count": 11,
      "outputs": []
    },
    {
      "cell_type": "code",
      "source": [
        "# initialize ActiveLearner\n",
        "learner = ActiveLearner(\n",
        "    estimator=LogisticRegression(),\n",
        "    X_training=vectorizer.transform(X_initial), y_training=y_initial,\n",
        ")\n",
        "\n",
        "# the active learning loop\n",
        "LR_uncertainty_results = [accuracy_score(test_labels, learner.predict(l))]\n",
        "n_queries = 5\n",
        "for idx in range(n_queries):\n",
        "    print('Query no. %d' % (idx + 1))\n",
        "    query_idx, query_instance = learner.query(vectorizer.transform(X_pool), n_instances=100)\n",
        "    learner.teach(\n",
        "        X=vectorizer.transform(X_pool[query_idx]), y=y_pool[query_idx]\n",
        "    )\n",
        "    # remove queried instance from pool\n",
        "    X_pool = np.delete(X_pool, query_idx, axis=0)\n",
        "    y_pool = np.delete(y_pool, query_idx, axis=0)\n",
        "    LR_uncertainty_results.append(accuracy_score(test_labels, learner.predict(l)))"
      ],
      "metadata": {
        "id": "KT2EfbENF91M",
        "colab": {
          "base_uri": "https://localhost:8080/"
        },
        "outputId": "df2337d0-88eb-4e9c-e167-4d46964e2ff5"
      },
      "execution_count": 12,
      "outputs": [
        {
          "output_type": "stream",
          "name": "stdout",
          "text": [
            "Query no. 1\n",
            "Query no. 2\n",
            "Query no. 3\n",
            "Query no. 4\n",
            "Query no. 5\n"
          ]
        }
      ]
    },
    {
      "cell_type": "code",
      "source": [
        "LR_uncertainty_results  #Logistic regression + Uncertainty sampling results "
      ],
      "metadata": {
        "colab": {
          "base_uri": "https://localhost:8080/"
        },
        "id": "W1enWKG7GBj0",
        "outputId": "e2e02816-3a37-49b3-fe68-d58805110bb8"
      },
      "execution_count": 13,
      "outputs": [
        {
          "output_type": "execute_result",
          "data": {
            "text/plain": [
              "[0.8942222222222223,\n",
              " 0.9075555555555556,\n",
              " 0.9571111111111111,\n",
              " 0.9637777777777777,\n",
              " 0.9708888888888889,\n",
              " 0.9724444444444444]"
            ]
          },
          "metadata": {},
          "execution_count": 13
        }
      ]
    },
    {
      "cell_type": "code",
      "source": [
        "def random_sampling(classifier, X_pool,n_instances):  #defining random sampling\n",
        "    n_samples = 100\n",
        "    query_idx = np.random.choice(range(n_samples),size=n_instances)\n",
        "    return query_idx, X_pool[query_idx]\n",
        "\n",
        "\n",
        "del learner\n",
        "# initialize ActiveLearner\n",
        "learner = ActiveLearner(\n",
        "    estimator=LogisticRegression(),\n",
        "    query_strategy=random_sampling,\n",
        "    X_training=vectorizer.transform(X_initial), y_training=y_initial,\n",
        ")\n",
        "\n",
        "# generate the pool\n",
        "# remove the initial data from the training dataset\n",
        "X_pool = np.delete(train_texts, initial_idx, axis=0)\n",
        "y_pool = np.delete(train_labels, initial_idx, axis=0)\n",
        "\n",
        "# the active learning loop\n",
        "LR_random_results = [accuracy_score(test_labels, learner.predict(l))]\n",
        "n_queries = 5\n",
        "for idx in range(n_queries):\n",
        "    print('Query no. %d' % (idx + 1))\n",
        "    query_idx, query_instance = learner.query(vectorizer.transform(X_pool), n_instances=100)\n",
        "    learner.teach(\n",
        "        X=vectorizer.transform(X_pool[query_idx]), y=y_pool[query_idx]\n",
        "    )\n",
        "    # remove queried instance from pool\n",
        "    X_pool = np.delete(X_pool, query_idx, axis=0)\n",
        "    y_pool = np.delete(y_pool, query_idx, axis=0)\n",
        "    LR_random_results.append(accuracy_score(test_labels, learner.predict(l)))"
      ],
      "metadata": {
        "id": "wlWktZ8lGDQv",
        "colab": {
          "base_uri": "https://localhost:8080/"
        },
        "outputId": "ed3b5129-29b6-4439-c4b2-0938f0b47825"
      },
      "execution_count": 14,
      "outputs": [
        {
          "output_type": "stream",
          "name": "stdout",
          "text": [
            "Query no. 1\n",
            "Query no. 2\n",
            "Query no. 3\n",
            "Query no. 4\n",
            "Query no. 5\n"
          ]
        }
      ]
    },
    {
      "cell_type": "code",
      "source": [
        "LR_random_results   #Logistic Regression + Random Sampling results"
      ],
      "metadata": {
        "colab": {
          "base_uri": "https://localhost:8080/"
        },
        "id": "MjHs5b91GKBS",
        "outputId": "45655bd9-44da-4962-cbfa-185edca59ea2"
      },
      "execution_count": 15,
      "outputs": [
        {
          "output_type": "execute_result",
          "data": {
            "text/plain": [
              "[0.8942222222222223,\n",
              " 0.9046666666666666,\n",
              " 0.918,\n",
              " 0.9242222222222222,\n",
              " 0.928,\n",
              " 0.94]"
            ]
          },
          "metadata": {},
          "execution_count": 15
        }
      ]
    },
    {
      "cell_type": "markdown",
      "source": [
        "LSTM with modAL package"
      ],
      "metadata": {
        "id": "o5cvXA71D4ce"
      }
    },
    {
      "cell_type": "code",
      "source": [
        "set_seed(seedn)"
      ],
      "metadata": {
        "id": "XSkl_kP8xcW_"
      },
      "execution_count": 16,
      "outputs": []
    },
    {
      "cell_type": "code",
      "source": [
        "#ISOT\n",
        "\n",
        "train_data = pd.read_csv(path + 'ISOT_may.csv', encoding=\"ISO-8859-1\")\n"
      ],
      "metadata": {
        "id": "ynTY1GpEf8qp"
      },
      "execution_count": 17,
      "outputs": []
    },
    {
      "cell_type": "code",
      "source": [
        "train_data=train_data.dropna()\n",
        "train_data=train_data[['text','labels']] \n",
        "train_data=train_data.drop_duplicates(subset=['text', 'labels'], keep='last')\n",
        "\n",
        "TEST_SIZE=0.3\n",
        "if len(train_data)>15000:\n",
        "  train_data = train_data.sample(15000).reset_index(drop=True)\n",
        "\n",
        "\n",
        "train_data, test_data = train_test_split(train_data, test_size=TEST_SIZE)\n",
        "train_data = train_data.reset_index(drop=True)\n",
        "\n",
        "X_train=train_data['text']\n",
        "y_train=train_data['labels']\n",
        "X_test=test_data['text']\n",
        "y_test=test_data['labels']\n",
        "\n",
        "vocab_size = 10000\n",
        "embedding_dim = 64\n",
        "max_length = 510  \n",
        "trunc_type = 'post'\n",
        "padding_type = 'post'\n",
        "oov_tok = '<OOV>'\n",
        "\n",
        "tokenizer = Tokenizer(num_words = vocab_size, oov_token=oov_tok)\n",
        "tokenizer.fit_on_texts(X_train)\n",
        "\n",
        "X_train = tokenizer.texts_to_sequences(X_train)\n",
        "X_test = tokenizer.texts_to_sequences(X_test)\n",
        "\n",
        "X_train = tf.keras.preprocessing.sequence.pad_sequences(X_train, padding=padding_type, truncating=trunc_type, maxlen=max_length)\n",
        "X_test = tf.keras.preprocessing.sequence.pad_sequences(X_test, padding=padding_type, truncating=trunc_type, maxlen=max_length)\n",
        "\n",
        "n_initial = 100\n",
        "\n",
        "#stratified initial batch \n",
        "idx_False=np.where(y_train == 1)[0]\n",
        "idx_True=np.where(y_train== 0)[0]\n",
        "k=int(len(np.where(y_train == 1)[0])/len(y_train)*100) #this is the ratio of the original dataset\n",
        "    \n",
        "initial_False=random.sample(idx_False.tolist(),k) \n",
        "initial_True=random.sample(idx_True.tolist(),n_initial -k)\n",
        "    \n",
        "initial_idx=initial_False+initial_True\n",
        "\n",
        "pool_idx=[x for x in list(np.arange(0,len(X_train))) if (x not in initial_idx)]\n",
        "pool_idx=np.array(pool_idx)\n",
        "X_initial = X_train[initial_idx]\n",
        "y_initial = y_train[initial_idx].to_numpy()\n",
        "\n",
        "\n",
        "\n",
        "\n",
        "\n",
        "\n",
        "\n",
        "\n",
        "\n",
        "# generate the pool\n",
        "# remove the initial data from the training dataset\n",
        "X_pool = np.delete(X_train, initial_idx, axis=0)\n",
        "y_pool = y_train[pool_idx].to_numpy()\n",
        "\n",
        "\n",
        "#LSTM model created with Keras package\n",
        "def keras_LSTM():\n",
        "    model=Sequential()\n",
        "    model.add(layers.Embedding(vocab_size, embedding_dim))\n",
        "    model.add(layers.Bidirectional(layers.LSTM(embedding_dim,  return_sequences=True)))\n",
        "    model.add(layers.Bidirectional(layers.LSTM(16)))\n",
        "    model.add(layers.Dense(embedding_dim,activation='relu'))\n",
        "    model.add(layers.Dropout(0.5))\n",
        "    model.add(layers.Dense(1, activation=\"sigmoid\"))\n",
        "    model.compile(loss=tf.keras.losses.BinaryCrossentropy(from_logits=True),optimizer=tf.keras.optimizers.Adam(1e-4),\n",
        "              metrics=['accuracy'])\n",
        "    \n",
        "    print(model.summary())\n",
        "    return model\n",
        "keras_lstm=KerasClassifier(keras_LSTM)\n",
        "\n",
        "def random_sampling(classifier, X_pool,n_instances):\n",
        "    n_samples = 100\n",
        "    query_idx = np.random.choice(range(n_samples),size=n_instances)\n",
        "    return query_idx, X_pool[query_idx]"
      ],
      "metadata": {
        "id": "LCEMj6qiHLkF",
        "colab": {
          "base_uri": "https://localhost:8080/"
        },
        "outputId": "31ebb38b-fd2f-4e24-f279-31a09cd3a363"
      },
      "execution_count": 18,
      "outputs": [
        {
          "output_type": "stream",
          "name": "stderr",
          "text": [
            "/usr/local/lib/python3.7/dist-packages/ipykernel_launcher.py:79: DeprecationWarning: KerasClassifier is deprecated, use Sci-Keras (https://github.com/adriangb/scikeras) instead. See https://www.adriangb.com/scikeras/stable/migration.html for help migrating.\n"
          ]
        }
      ]
    },
    {
      "cell_type": "code",
      "source": [
        "# initialize ActiveLearner for random sampling\n",
        "learner = ActiveLearner(\n",
        "    estimator=keras_lstm,\n",
        "    query_strategy=random_sampling,\n",
        "    X_training=X_initial, y_training=y_initial, epochs=10, shuffle=True, batch_size=16,verbose=2\n",
        ")"
      ],
      "metadata": {
        "colab": {
          "base_uri": "https://localhost:8080/"
        },
        "id": "l0n6zP7_HeOy",
        "outputId": "a369505e-0a11-4f4c-85af-e2840260b158"
      },
      "execution_count": 19,
      "outputs": [
        {
          "output_type": "stream",
          "name": "stdout",
          "text": [
            "Model: \"sequential\"\n",
            "_________________________________________________________________\n",
            " Layer (type)                Output Shape              Param #   \n",
            "=================================================================\n",
            " embedding (Embedding)       (None, None, 64)          640000    \n",
            "                                                                 \n",
            " bidirectional (Bidirectiona  (None, None, 128)        66048     \n",
            " l)                                                              \n",
            "                                                                 \n",
            " bidirectional_1 (Bidirectio  (None, 32)               18560     \n",
            " nal)                                                            \n",
            "                                                                 \n",
            " dense (Dense)               (None, 64)                2112      \n",
            "                                                                 \n",
            " dropout (Dropout)           (None, 64)                0         \n",
            "                                                                 \n",
            " dense_1 (Dense)             (None, 1)                 65        \n",
            "                                                                 \n",
            "=================================================================\n",
            "Total params: 726,785\n",
            "Trainable params: 726,785\n",
            "Non-trainable params: 0\n",
            "_________________________________________________________________\n",
            "None\n",
            "Epoch 1/10\n"
          ]
        },
        {
          "output_type": "stream",
          "name": "stderr",
          "text": [
            "/usr/local/lib/python3.7/dist-packages/tensorflow/python/util/dispatch.py:1082: UserWarning: \"`binary_crossentropy` received `from_logits=True`, but the `output` argument was produced by a sigmoid or softmax activation and thus does not represent logits. Was this intended?\"\n",
            "  return dispatch_target(*args, **kwargs)\n"
          ]
        },
        {
          "output_type": "stream",
          "name": "stdout",
          "text": [
            "7/7 - 11s - loss: 0.6928 - accuracy: 0.5300 - 11s/epoch - 2s/step\n",
            "Epoch 2/10\n",
            "7/7 - 5s - loss: 0.6922 - accuracy: 0.5500 - 5s/epoch - 751ms/step\n",
            "Epoch 3/10\n",
            "7/7 - 5s - loss: 0.6905 - accuracy: 0.5600 - 5s/epoch - 737ms/step\n",
            "Epoch 4/10\n",
            "7/7 - 5s - loss: 0.6903 - accuracy: 0.5700 - 5s/epoch - 753ms/step\n",
            "Epoch 5/10\n",
            "7/7 - 5s - loss: 0.6874 - accuracy: 0.5800 - 5s/epoch - 757ms/step\n",
            "Epoch 6/10\n",
            "7/7 - 5s - loss: 0.6873 - accuracy: 0.6000 - 5s/epoch - 765ms/step\n",
            "Epoch 7/10\n",
            "7/7 - 5s - loss: 0.6865 - accuracy: 0.5700 - 5s/epoch - 775ms/step\n",
            "Epoch 8/10\n",
            "7/7 - 5s - loss: 0.6887 - accuracy: 0.5500 - 5s/epoch - 710ms/step\n",
            "Epoch 9/10\n",
            "7/7 - 5s - loss: 0.6850 - accuracy: 0.5800 - 5s/epoch - 758ms/step\n",
            "Epoch 10/10\n",
            "7/7 - 5s - loss: 0.6839 - accuracy: 0.5800 - 5s/epoch - 745ms/step\n"
          ]
        }
      ]
    },
    {
      "cell_type": "code",
      "source": [
        "accuracy_score(y_test.astype(int), learner.predict(X_test).flatten().astype(int))"
      ],
      "metadata": {
        "colab": {
          "base_uri": "https://localhost:8080/"
        },
        "id": "lto6PffkrDJG",
        "outputId": "df2e2fe1-06a4-4ff8-e411-318d8d1cbdca"
      },
      "execution_count": 20,
      "outputs": [
        {
          "output_type": "execute_result",
          "data": {
            "text/plain": [
              "0.5495555555555556"
            ]
          },
          "metadata": {},
          "execution_count": 20
        }
      ]
    },
    {
      "cell_type": "code",
      "source": [
        "# the active learning loop\n",
        "\n",
        "lstm_random_results = [accuracy_score(y_test.astype(int), learner.predict(X_test).flatten().astype(int))]\n",
        "\n",
        "n_queries = 5\n",
        "for idx in range(n_queries):\n",
        "    print('Query no. %d' % (idx + 1))\n",
        "    query_idx, query_instance = learner.query(X_pool, n_instances=100)\n",
        "    learner.teach(\n",
        "        X=X_pool[query_idx], y=y_pool[query_idx], only_new=False,epochs=10, shuffle=True, batch_size=16,verbose=2\n",
        "    )\n",
        "    # remove queried instance from pool\n",
        "    X_pool = np.delete(X_pool, query_idx, axis=0)\n",
        "    y_pool = np.delete(y_pool, query_idx, axis=0)\n",
        "    lstm_random_results.append(accuracy_score(y_test.astype(int), learner.predict(X_test).flatten().astype(int)))\n",
        "del learner"
      ],
      "metadata": {
        "colab": {
          "base_uri": "https://localhost:8080/"
        },
        "id": "FIXsAxHAHf0p",
        "outputId": "69d09c5c-3978-4d9b-a618-da1bd2832c24"
      },
      "execution_count": 21,
      "outputs": [
        {
          "output_type": "stream",
          "name": "stdout",
          "text": [
            "Query no. 1\n",
            "Model: \"sequential_1\"\n",
            "_________________________________________________________________\n",
            " Layer (type)                Output Shape              Param #   \n",
            "=================================================================\n",
            " embedding_1 (Embedding)     (None, None, 64)          640000    \n",
            "                                                                 \n",
            " bidirectional_2 (Bidirectio  (None, None, 128)        66048     \n",
            " nal)                                                            \n",
            "                                                                 \n",
            " bidirectional_3 (Bidirectio  (None, 32)               18560     \n",
            " nal)                                                            \n",
            "                                                                 \n",
            " dense_2 (Dense)             (None, 64)                2112      \n",
            "                                                                 \n",
            " dropout_1 (Dropout)         (None, 64)                0         \n",
            "                                                                 \n",
            " dense_3 (Dense)             (None, 1)                 65        \n",
            "                                                                 \n",
            "=================================================================\n",
            "Total params: 726,785\n",
            "Trainable params: 726,785\n",
            "Non-trainable params: 0\n",
            "_________________________________________________________________\n",
            "None\n",
            "Epoch 1/10\n"
          ]
        },
        {
          "output_type": "stream",
          "name": "stderr",
          "text": [
            "/usr/local/lib/python3.7/dist-packages/tensorflow/python/util/dispatch.py:1082: UserWarning: \"`binary_crossentropy` received `from_logits=True`, but the `output` argument was produced by a sigmoid or softmax activation and thus does not represent logits. Was this intended?\"\n",
            "  return dispatch_target(*args, **kwargs)\n"
          ]
        },
        {
          "output_type": "stream",
          "name": "stdout",
          "text": [
            "13/13 - 16s - loss: 0.6936 - accuracy: 0.4700 - 16s/epoch - 1s/step\n",
            "Epoch 2/10\n",
            "13/13 - 10s - loss: 0.6924 - accuracy: 0.5550 - 10s/epoch - 779ms/step\n",
            "Epoch 3/10\n",
            "13/13 - 10s - loss: 0.6912 - accuracy: 0.6650 - 10s/epoch - 766ms/step\n",
            "Epoch 4/10\n",
            "13/13 - 14s - loss: 0.6907 - accuracy: 0.6600 - 14s/epoch - 1s/step\n",
            "Epoch 5/10\n",
            "13/13 - 10s - loss: 0.6884 - accuracy: 0.7500 - 10s/epoch - 761ms/step\n",
            "Epoch 6/10\n",
            "13/13 - 10s - loss: 0.6872 - accuracy: 0.7300 - 10s/epoch - 759ms/step\n",
            "Epoch 7/10\n",
            "13/13 - 12s - loss: 0.6836 - accuracy: 0.8250 - 12s/epoch - 904ms/step\n",
            "Epoch 8/10\n",
            "13/13 - 10s - loss: 0.6790 - accuracy: 0.9000 - 10s/epoch - 748ms/step\n",
            "Epoch 9/10\n",
            "13/13 - 9s - loss: 0.6655 - accuracy: 0.9350 - 9s/epoch - 696ms/step\n",
            "Epoch 10/10\n",
            "13/13 - 9s - loss: 0.6499 - accuracy: 0.9300 - 9s/epoch - 707ms/step\n",
            "Query no. 2\n",
            "Model: \"sequential_2\"\n",
            "_________________________________________________________________\n",
            " Layer (type)                Output Shape              Param #   \n",
            "=================================================================\n",
            " embedding_2 (Embedding)     (None, None, 64)          640000    \n",
            "                                                                 \n",
            " bidirectional_4 (Bidirectio  (None, None, 128)        66048     \n",
            " nal)                                                            \n",
            "                                                                 \n",
            " bidirectional_5 (Bidirectio  (None, 32)               18560     \n",
            " nal)                                                            \n",
            "                                                                 \n",
            " dense_4 (Dense)             (None, 64)                2112      \n",
            "                                                                 \n",
            " dropout_2 (Dropout)         (None, 64)                0         \n",
            "                                                                 \n",
            " dense_5 (Dense)             (None, 1)                 65        \n",
            "                                                                 \n",
            "=================================================================\n",
            "Total params: 726,785\n",
            "Trainable params: 726,785\n",
            "Non-trainable params: 0\n",
            "_________________________________________________________________\n",
            "None\n",
            "Epoch 1/10\n"
          ]
        },
        {
          "output_type": "stream",
          "name": "stderr",
          "text": [
            "/usr/local/lib/python3.7/dist-packages/tensorflow/python/util/dispatch.py:1082: UserWarning: \"`binary_crossentropy` received `from_logits=True`, but the `output` argument was produced by a sigmoid or softmax activation and thus does not represent logits. Was this intended?\"\n",
            "  return dispatch_target(*args, **kwargs)\n"
          ]
        },
        {
          "output_type": "stream",
          "name": "stdout",
          "text": [
            "19/19 - 20s - loss: 0.6929 - accuracy: 0.5400 - 20s/epoch - 1s/step\n",
            "Epoch 2/10\n",
            "19/19 - 14s - loss: 0.6916 - accuracy: 0.5567 - 14s/epoch - 715ms/step\n",
            "Epoch 3/10\n",
            "19/19 - 14s - loss: 0.6906 - accuracy: 0.5767 - 14s/epoch - 720ms/step\n",
            "Epoch 4/10\n",
            "19/19 - 14s - loss: 0.6888 - accuracy: 0.5567 - 14s/epoch - 721ms/step\n",
            "Epoch 5/10\n",
            "19/19 - 13s - loss: 0.6833 - accuracy: 0.6800 - 13s/epoch - 692ms/step\n",
            "Epoch 6/10\n",
            "19/19 - 13s - loss: 0.6735 - accuracy: 0.7567 - 13s/epoch - 702ms/step\n",
            "Epoch 7/10\n",
            "19/19 - 14s - loss: 0.6493 - accuracy: 0.8467 - 14s/epoch - 721ms/step\n",
            "Epoch 8/10\n",
            "19/19 - 14s - loss: 0.5539 - accuracy: 0.8867 - 14s/epoch - 735ms/step\n",
            "Epoch 9/10\n",
            "19/19 - 13s - loss: 0.4156 - accuracy: 0.9467 - 13s/epoch - 708ms/step\n",
            "Epoch 10/10\n",
            "19/19 - 15s - loss: 0.3437 - accuracy: 0.9700 - 15s/epoch - 813ms/step\n",
            "Query no. 3\n",
            "Model: \"sequential_3\"\n",
            "_________________________________________________________________\n",
            " Layer (type)                Output Shape              Param #   \n",
            "=================================================================\n",
            " embedding_3 (Embedding)     (None, None, 64)          640000    \n",
            "                                                                 \n",
            " bidirectional_6 (Bidirectio  (None, None, 128)        66048     \n",
            " nal)                                                            \n",
            "                                                                 \n",
            " bidirectional_7 (Bidirectio  (None, 32)               18560     \n",
            " nal)                                                            \n",
            "                                                                 \n",
            " dense_6 (Dense)             (None, 64)                2112      \n",
            "                                                                 \n",
            " dropout_3 (Dropout)         (None, 64)                0         \n",
            "                                                                 \n",
            " dense_7 (Dense)             (None, 1)                 65        \n",
            "                                                                 \n",
            "=================================================================\n",
            "Total params: 726,785\n",
            "Trainable params: 726,785\n",
            "Non-trainable params: 0\n",
            "_________________________________________________________________\n",
            "None\n",
            "Epoch 1/10\n"
          ]
        },
        {
          "output_type": "stream",
          "name": "stderr",
          "text": [
            "/usr/local/lib/python3.7/dist-packages/tensorflow/python/util/dispatch.py:1082: UserWarning: \"`binary_crossentropy` received `from_logits=True`, but the `output` argument was produced by a sigmoid or softmax activation and thus does not represent logits. Was this intended?\"\n",
            "  return dispatch_target(*args, **kwargs)\n"
          ]
        },
        {
          "output_type": "stream",
          "name": "stdout",
          "text": [
            "25/25 - 20s - loss: 0.6927 - accuracy: 0.5400 - 20s/epoch - 791ms/step\n",
            "Epoch 2/10\n",
            "25/25 - 15s - loss: 0.6919 - accuracy: 0.6050 - 15s/epoch - 586ms/step\n",
            "Epoch 3/10\n",
            "25/25 - 15s - loss: 0.6910 - accuracy: 0.6200 - 15s/epoch - 585ms/step\n",
            "Epoch 4/10\n",
            "25/25 - 15s - loss: 0.6884 - accuracy: 0.6725 - 15s/epoch - 586ms/step\n",
            "Epoch 5/10\n",
            "25/25 - 14s - loss: 0.6836 - accuracy: 0.7475 - 14s/epoch - 574ms/step\n",
            "Epoch 6/10\n",
            "25/25 - 15s - loss: 0.6719 - accuracy: 0.8675 - 15s/epoch - 589ms/step\n",
            "Epoch 7/10\n",
            "25/25 - 14s - loss: 0.6225 - accuracy: 0.8850 - 14s/epoch - 574ms/step\n",
            "Epoch 8/10\n",
            "25/25 - 15s - loss: 0.4875 - accuracy: 0.8950 - 15s/epoch - 582ms/step\n",
            "Epoch 9/10\n",
            "25/25 - 15s - loss: 0.6039 - accuracy: 0.7700 - 15s/epoch - 593ms/step\n",
            "Epoch 10/10\n",
            "25/25 - 15s - loss: 0.5636 - accuracy: 0.7450 - 15s/epoch - 586ms/step\n",
            "Query no. 4\n",
            "Model: \"sequential_4\"\n",
            "_________________________________________________________________\n",
            " Layer (type)                Output Shape              Param #   \n",
            "=================================================================\n",
            " embedding_4 (Embedding)     (None, None, 64)          640000    \n",
            "                                                                 \n",
            " bidirectional_8 (Bidirectio  (None, None, 128)        66048     \n",
            " nal)                                                            \n",
            "                                                                 \n",
            " bidirectional_9 (Bidirectio  (None, 32)               18560     \n",
            " nal)                                                            \n",
            "                                                                 \n",
            " dense_8 (Dense)             (None, 64)                2112      \n",
            "                                                                 \n",
            " dropout_4 (Dropout)         (None, 64)                0         \n",
            "                                                                 \n",
            " dense_9 (Dense)             (None, 1)                 65        \n",
            "                                                                 \n",
            "=================================================================\n",
            "Total params: 726,785\n",
            "Trainable params: 726,785\n",
            "Non-trainable params: 0\n",
            "_________________________________________________________________\n",
            "None\n",
            "Epoch 1/10\n"
          ]
        },
        {
          "output_type": "stream",
          "name": "stderr",
          "text": [
            "/usr/local/lib/python3.7/dist-packages/tensorflow/python/util/dispatch.py:1082: UserWarning: \"`binary_crossentropy` received `from_logits=True`, but the `output` argument was produced by a sigmoid or softmax activation and thus does not represent logits. Was this intended?\"\n",
            "  return dispatch_target(*args, **kwargs)\n"
          ]
        },
        {
          "output_type": "stream",
          "name": "stdout",
          "text": [
            "32/32 - 30s - loss: 0.6924 - accuracy: 0.5680 - 30s/epoch - 923ms/step\n",
            "Epoch 2/10\n",
            "32/32 - 25s - loss: 0.6902 - accuracy: 0.5860 - 25s/epoch - 766ms/step\n",
            "Epoch 3/10\n",
            "32/32 - 25s - loss: 0.6876 - accuracy: 0.6320 - 25s/epoch - 776ms/step\n",
            "Epoch 4/10\n",
            "32/32 - 25s - loss: 0.6788 - accuracy: 0.7580 - 25s/epoch - 786ms/step\n",
            "Epoch 5/10\n",
            "32/32 - 25s - loss: 0.6251 - accuracy: 0.9100 - 25s/epoch - 785ms/step\n",
            "Epoch 6/10\n",
            "32/32 - 25s - loss: 0.4703 - accuracy: 0.8780 - 25s/epoch - 784ms/step\n",
            "Epoch 7/10\n",
            "32/32 - 25s - loss: 0.2840 - accuracy: 0.9560 - 25s/epoch - 786ms/step\n",
            "Epoch 8/10\n",
            "32/32 - 27s - loss: 0.1982 - accuracy: 0.9700 - 27s/epoch - 839ms/step\n",
            "Epoch 9/10\n",
            "32/32 - 25s - loss: 0.1535 - accuracy: 0.9840 - 25s/epoch - 766ms/step\n",
            "Epoch 10/10\n",
            "32/32 - 25s - loss: 0.1221 - accuracy: 0.9860 - 25s/epoch - 769ms/step\n",
            "Query no. 5\n",
            "Model: \"sequential_5\"\n",
            "_________________________________________________________________\n",
            " Layer (type)                Output Shape              Param #   \n",
            "=================================================================\n",
            " embedding_5 (Embedding)     (None, None, 64)          640000    \n",
            "                                                                 \n",
            " bidirectional_10 (Bidirecti  (None, None, 128)        66048     \n",
            " onal)                                                           \n",
            "                                                                 \n",
            " bidirectional_11 (Bidirecti  (None, 32)               18560     \n",
            " onal)                                                           \n",
            "                                                                 \n",
            " dense_10 (Dense)            (None, 64)                2112      \n",
            "                                                                 \n",
            " dropout_5 (Dropout)         (None, 64)                0         \n",
            "                                                                 \n",
            " dense_11 (Dense)            (None, 1)                 65        \n",
            "                                                                 \n",
            "=================================================================\n",
            "Total params: 726,785\n",
            "Trainable params: 726,785\n",
            "Non-trainable params: 0\n",
            "_________________________________________________________________\n",
            "None\n",
            "Epoch 1/10\n"
          ]
        },
        {
          "output_type": "stream",
          "name": "stderr",
          "text": [
            "/usr/local/lib/python3.7/dist-packages/tensorflow/python/util/dispatch.py:1082: UserWarning: \"`binary_crossentropy` received `from_logits=True`, but the `output` argument was produced by a sigmoid or softmax activation and thus does not represent logits. Was this intended?\"\n",
            "  return dispatch_target(*args, **kwargs)\n"
          ]
        },
        {
          "output_type": "stream",
          "name": "stdout",
          "text": [
            "38/38 - 35s - loss: 0.6927 - accuracy: 0.5450 - 35s/epoch - 921ms/step\n",
            "Epoch 2/10\n",
            "38/38 - 29s - loss: 0.6884 - accuracy: 0.6850 - 29s/epoch - 767ms/step\n",
            "Epoch 3/10\n",
            "38/38 - 30s - loss: 0.6773 - accuracy: 0.7517 - 30s/epoch - 776ms/step\n",
            "Epoch 4/10\n",
            "38/38 - 31s - loss: 0.6091 - accuracy: 0.8750 - 31s/epoch - 817ms/step\n",
            "Epoch 5/10\n",
            "38/38 - 28s - loss: 0.4152 - accuracy: 0.9367 - 28s/epoch - 749ms/step\n",
            "Epoch 6/10\n",
            "38/38 - 28s - loss: 0.2655 - accuracy: 0.9617 - 28s/epoch - 744ms/step\n",
            "Epoch 7/10\n",
            "38/38 - 29s - loss: 0.1697 - accuracy: 0.9850 - 29s/epoch - 767ms/step\n",
            "Epoch 8/10\n",
            "38/38 - 29s - loss: 0.1329 - accuracy: 0.9833 - 29s/epoch - 769ms/step\n",
            "Epoch 9/10\n",
            "38/38 - 30s - loss: 0.0883 - accuracy: 0.9933 - 30s/epoch - 782ms/step\n",
            "Epoch 10/10\n",
            "38/38 - 30s - loss: 0.0628 - accuracy: 0.9983 - 30s/epoch - 778ms/step\n"
          ]
        }
      ]
    },
    {
      "cell_type": "code",
      "source": [
        "lstm_random_results #LSTM with Random Sampling results"
      ],
      "metadata": {
        "colab": {
          "base_uri": "https://localhost:8080/"
        },
        "id": "9LmDn8P7Hjre",
        "outputId": "182b2b18-bfdc-4905-b3bc-8f2274104249"
      },
      "execution_count": 22,
      "outputs": [
        {
          "output_type": "execute_result",
          "data": {
            "text/plain": [
              "[0.5495555555555556,\n",
              " 0.8204444444444444,\n",
              " 0.9226666666666666,\n",
              " 0.8262222222222222,\n",
              " 0.8844444444444445,\n",
              " 0.926]"
            ]
          },
          "metadata": {},
          "execution_count": 22
        }
      ]
    },
    {
      "cell_type": "code",
      "source": [
        "# generate the pool\n",
        "# remove the initial data from the training dataset\n",
        "X_pool = np.delete(X_train, initial_idx, axis=0)\n",
        "y_pool = y_train[pool_idx].values"
      ],
      "metadata": {
        "id": "ogC89m92HaWj"
      },
      "execution_count": 23,
      "outputs": []
    },
    {
      "cell_type": "code",
      "source": [
        "set_seed(seedn)"
      ],
      "metadata": {
        "id": "KVU32TuLOH79"
      },
      "execution_count": 24,
      "outputs": []
    },
    {
      "cell_type": "code",
      "source": [
        "# initialize ActiveLearner for uncertainty sampling\n",
        "learner = ActiveLearner(\n",
        "    estimator=keras_lstm,\n",
        "    query_strategy=uncertainty_sampling,\n",
        "    X_training=X_initial, y_training=y_initial, epochs=10, shuffle=True, batch_size=16,verbose=2\n",
        ")"
      ],
      "metadata": {
        "colab": {
          "base_uri": "https://localhost:8080/"
        },
        "id": "puH-NBsrHmT8",
        "outputId": "c348191a-26cc-4847-bbd8-acfc66fe0852"
      },
      "execution_count": 25,
      "outputs": [
        {
          "output_type": "stream",
          "name": "stdout",
          "text": [
            "Model: \"sequential_6\"\n",
            "_________________________________________________________________\n",
            " Layer (type)                Output Shape              Param #   \n",
            "=================================================================\n",
            " embedding_6 (Embedding)     (None, None, 64)          640000    \n",
            "                                                                 \n",
            " bidirectional_12 (Bidirecti  (None, None, 128)        66048     \n",
            " onal)                                                           \n",
            "                                                                 \n",
            " bidirectional_13 (Bidirecti  (None, 32)               18560     \n",
            " onal)                                                           \n",
            "                                                                 \n",
            " dense_12 (Dense)            (None, 64)                2112      \n",
            "                                                                 \n",
            " dropout_6 (Dropout)         (None, 64)                0         \n",
            "                                                                 \n",
            " dense_13 (Dense)            (None, 1)                 65        \n",
            "                                                                 \n",
            "=================================================================\n",
            "Total params: 726,785\n",
            "Trainable params: 726,785\n",
            "Non-trainable params: 0\n",
            "_________________________________________________________________\n",
            "None\n",
            "Epoch 1/10\n"
          ]
        },
        {
          "output_type": "stream",
          "name": "stderr",
          "text": [
            "/usr/local/lib/python3.7/dist-packages/tensorflow/python/util/dispatch.py:1082: UserWarning: \"`binary_crossentropy` received `from_logits=True`, but the `output` argument was produced by a sigmoid or softmax activation and thus does not represent logits. Was this intended?\"\n",
            "  return dispatch_target(*args, **kwargs)\n"
          ]
        },
        {
          "output_type": "stream",
          "name": "stdout",
          "text": [
            "7/7 - 14s - loss: 0.6928 - accuracy: 0.5300 - 14s/epoch - 2s/step\n",
            "Epoch 2/10\n",
            "7/7 - 5s - loss: 0.6922 - accuracy: 0.5500 - 5s/epoch - 771ms/step\n",
            "Epoch 3/10\n",
            "7/7 - 5s - loss: 0.6905 - accuracy: 0.5600 - 5s/epoch - 772ms/step\n",
            "Epoch 4/10\n",
            "7/7 - 5s - loss: 0.6903 - accuracy: 0.5700 - 5s/epoch - 774ms/step\n",
            "Epoch 5/10\n",
            "7/7 - 5s - loss: 0.6874 - accuracy: 0.5800 - 5s/epoch - 768ms/step\n",
            "Epoch 6/10\n",
            "7/7 - 5s - loss: 0.6873 - accuracy: 0.6000 - 5s/epoch - 774ms/step\n",
            "Epoch 7/10\n",
            "7/7 - 5s - loss: 0.6865 - accuracy: 0.5700 - 5s/epoch - 764ms/step\n",
            "Epoch 8/10\n",
            "7/7 - 5s - loss: 0.6887 - accuracy: 0.5500 - 5s/epoch - 781ms/step\n",
            "Epoch 9/10\n",
            "7/7 - 5s - loss: 0.6850 - accuracy: 0.5800 - 5s/epoch - 776ms/step\n",
            "Epoch 10/10\n",
            "7/7 - 5s - loss: 0.6839 - accuracy: 0.5800 - 5s/epoch - 778ms/step\n"
          ]
        }
      ]
    },
    {
      "cell_type": "code",
      "source": [
        "accuracy_score(y_test.astype(int), learner.predict(X_test).flatten().astype(int))"
      ],
      "metadata": {
        "colab": {
          "base_uri": "https://localhost:8080/"
        },
        "id": "d0xTOUp5rIIZ",
        "outputId": "ac2099d4-1960-4e84-8e8a-508b6cc4be89"
      },
      "execution_count": 26,
      "outputs": [
        {
          "output_type": "execute_result",
          "data": {
            "text/plain": [
              "0.5495555555555556"
            ]
          },
          "metadata": {},
          "execution_count": 26
        }
      ]
    },
    {
      "cell_type": "code",
      "source": [
        "# the active learning loop\n",
        "lstm_uncertainty_results = [accuracy_score(y_test.astype(int), learner.predict(X_test).flatten().astype(int))]\n",
        "n_queries = 5\n",
        "for idx in range(n_queries):\n",
        "    print('Query no. %d' % (idx + 1))\n",
        "    query_idx, query_instance = learner.query(X_pool, n_instances=100)\n",
        "    learner.teach(\n",
        "        X=X_pool[query_idx], y=y_pool[query_idx], only_new=False,epochs=10, shuffle=True, batch_size=16,verbose=2\n",
        "    )\n",
        "    # remove queried instance from pool\n",
        "    X_pool = np.delete(X_pool, query_idx, axis=0)\n",
        "    y_pool = np.delete(y_pool, query_idx, axis=0)\n",
        "    lstm_uncertainty_results.append(accuracy_score(y_test.astype(int), learner.predict(X_test).flatten().astype(int)))"
      ],
      "metadata": {
        "colab": {
          "base_uri": "https://localhost:8080/"
        },
        "id": "xiW24WmTHqj0",
        "outputId": "6f306cf6-4ecf-4316-b589-af6da7d56db0"
      },
      "execution_count": 27,
      "outputs": [
        {
          "output_type": "stream",
          "name": "stdout",
          "text": [
            "Query no. 1\n",
            "Model: \"sequential_7\"\n",
            "_________________________________________________________________\n",
            " Layer (type)                Output Shape              Param #   \n",
            "=================================================================\n",
            " embedding_7 (Embedding)     (None, None, 64)          640000    \n",
            "                                                                 \n",
            " bidirectional_14 (Bidirecti  (None, None, 128)        66048     \n",
            " onal)                                                           \n",
            "                                                                 \n",
            " bidirectional_15 (Bidirecti  (None, 32)               18560     \n",
            " onal)                                                           \n",
            "                                                                 \n",
            " dense_14 (Dense)            (None, 64)                2112      \n",
            "                                                                 \n",
            " dropout_7 (Dropout)         (None, 64)                0         \n",
            "                                                                 \n",
            " dense_15 (Dense)            (None, 1)                 65        \n",
            "                                                                 \n",
            "=================================================================\n",
            "Total params: 726,785\n",
            "Trainable params: 726,785\n",
            "Non-trainable params: 0\n",
            "_________________________________________________________________\n",
            "None\n",
            "Epoch 1/10\n"
          ]
        },
        {
          "output_type": "stream",
          "name": "stderr",
          "text": [
            "/usr/local/lib/python3.7/dist-packages/tensorflow/python/util/dispatch.py:1082: UserWarning: \"`binary_crossentropy` received `from_logits=True`, but the `output` argument was produced by a sigmoid or softmax activation and thus does not represent logits. Was this intended?\"\n",
            "  return dispatch_target(*args, **kwargs)\n"
          ]
        },
        {
          "output_type": "stream",
          "name": "stdout",
          "text": [
            "13/13 - 19s - loss: 0.6913 - accuracy: 0.6450 - 19s/epoch - 1s/step\n",
            "Epoch 2/10\n",
            "13/13 - 11s - loss: 0.6865 - accuracy: 0.6550 - 11s/epoch - 820ms/step\n",
            "Epoch 3/10\n",
            "13/13 - 11s - loss: 0.6810 - accuracy: 0.6550 - 11s/epoch - 813ms/step\n",
            "Epoch 4/10\n",
            "13/13 - 10s - loss: 0.6708 - accuracy: 0.6550 - 10s/epoch - 803ms/step\n",
            "Epoch 5/10\n",
            "13/13 - 11s - loss: 0.6600 - accuracy: 0.6550 - 11s/epoch - 850ms/step\n",
            "Epoch 6/10\n",
            "13/13 - 10s - loss: 0.6476 - accuracy: 0.6550 - 10s/epoch - 799ms/step\n",
            "Epoch 7/10\n",
            "13/13 - 10s - loss: 0.6287 - accuracy: 0.6550 - 10s/epoch - 798ms/step\n",
            "Epoch 8/10\n",
            "13/13 - 10s - loss: 0.6060 - accuracy: 0.6550 - 10s/epoch - 798ms/step\n",
            "Epoch 9/10\n",
            "13/13 - 10s - loss: 0.5697 - accuracy: 0.6550 - 10s/epoch - 788ms/step\n",
            "Epoch 10/10\n",
            "13/13 - 10s - loss: 0.5291 - accuracy: 0.6550 - 10s/epoch - 794ms/step\n",
            "Query no. 2\n",
            "Model: \"sequential_8\"\n",
            "_________________________________________________________________\n",
            " Layer (type)                Output Shape              Param #   \n",
            "=================================================================\n",
            " embedding_8 (Embedding)     (None, None, 64)          640000    \n",
            "                                                                 \n",
            " bidirectional_16 (Bidirecti  (None, None, 128)        66048     \n",
            " onal)                                                           \n",
            "                                                                 \n",
            " bidirectional_17 (Bidirecti  (None, 32)               18560     \n",
            " onal)                                                           \n",
            "                                                                 \n",
            " dense_16 (Dense)            (None, 64)                2112      \n",
            "                                                                 \n",
            " dropout_8 (Dropout)         (None, 64)                0         \n",
            "                                                                 \n",
            " dense_17 (Dense)            (None, 1)                 65        \n",
            "                                                                 \n",
            "=================================================================\n",
            "Total params: 726,785\n",
            "Trainable params: 726,785\n",
            "Non-trainable params: 0\n",
            "_________________________________________________________________\n",
            "None\n",
            "Epoch 1/10\n"
          ]
        },
        {
          "output_type": "stream",
          "name": "stderr",
          "text": [
            "/usr/local/lib/python3.7/dist-packages/tensorflow/python/util/dispatch.py:1082: UserWarning: \"`binary_crossentropy` received `from_logits=True`, but the `output` argument was produced by a sigmoid or softmax activation and thus does not represent logits. Was this intended?\"\n",
            "  return dispatch_target(*args, **kwargs)\n"
          ]
        },
        {
          "output_type": "stream",
          "name": "stdout",
          "text": [
            "19/19 - 22s - loss: 0.6919 - accuracy: 0.5767 - 22s/epoch - 1s/step\n",
            "Epoch 2/10\n",
            "19/19 - 15s - loss: 0.6893 - accuracy: 0.6467 - 15s/epoch - 775ms/step\n",
            "Epoch 3/10\n",
            "19/19 - 15s - loss: 0.6839 - accuracy: 0.7133 - 15s/epoch - 777ms/step\n",
            "Epoch 4/10\n",
            "19/19 - 15s - loss: 0.6797 - accuracy: 0.7233 - 15s/epoch - 770ms/step\n",
            "Epoch 5/10\n",
            "19/19 - 15s - loss: 0.6700 - accuracy: 0.7233 - 15s/epoch - 765ms/step\n",
            "Epoch 6/10\n",
            "19/19 - 15s - loss: 0.6517 - accuracy: 0.7567 - 15s/epoch - 765ms/step\n",
            "Epoch 7/10\n",
            "19/19 - 15s - loss: 0.6088 - accuracy: 0.7700 - 15s/epoch - 767ms/step\n",
            "Epoch 8/10\n",
            "19/19 - 15s - loss: 0.5456 - accuracy: 0.8167 - 15s/epoch - 771ms/step\n",
            "Epoch 9/10\n",
            "19/19 - 15s - loss: 0.4782 - accuracy: 0.8600 - 15s/epoch - 776ms/step\n",
            "Epoch 10/10\n",
            "19/19 - 15s - loss: 0.3894 - accuracy: 0.9133 - 15s/epoch - 776ms/step\n",
            "Query no. 3\n",
            "Model: \"sequential_9\"\n",
            "_________________________________________________________________\n",
            " Layer (type)                Output Shape              Param #   \n",
            "=================================================================\n",
            " embedding_9 (Embedding)     (None, None, 64)          640000    \n",
            "                                                                 \n",
            " bidirectional_18 (Bidirecti  (None, None, 128)        66048     \n",
            " onal)                                                           \n",
            "                                                                 \n",
            " bidirectional_19 (Bidirecti  (None, 32)               18560     \n",
            " onal)                                                           \n",
            "                                                                 \n",
            " dense_18 (Dense)            (None, 64)                2112      \n",
            "                                                                 \n",
            " dropout_9 (Dropout)         (None, 64)                0         \n",
            "                                                                 \n",
            " dense_19 (Dense)            (None, 1)                 65        \n",
            "                                                                 \n",
            "=================================================================\n",
            "Total params: 726,785\n",
            "Trainable params: 726,785\n",
            "Non-trainable params: 0\n",
            "_________________________________________________________________\n",
            "None\n",
            "Epoch 1/10\n"
          ]
        },
        {
          "output_type": "stream",
          "name": "stderr",
          "text": [
            "/usr/local/lib/python3.7/dist-packages/tensorflow/python/util/dispatch.py:1082: UserWarning: \"`binary_crossentropy` received `from_logits=True`, but the `output` argument was produced by a sigmoid or softmax activation and thus does not represent logits. Was this intended?\"\n",
            "  return dispatch_target(*args, **kwargs)\n"
          ]
        },
        {
          "output_type": "stream",
          "name": "stdout",
          "text": [
            "25/25 - 22s - loss: 0.6924 - accuracy: 0.5725 - 22s/epoch - 897ms/step\n",
            "Epoch 2/10\n",
            "25/25 - 16s - loss: 0.6911 - accuracy: 0.6275 - 16s/epoch - 647ms/step\n",
            "Epoch 3/10\n",
            "25/25 - 16s - loss: 0.6888 - accuracy: 0.6725 - 16s/epoch - 646ms/step\n",
            "Epoch 4/10\n",
            "25/25 - 16s - loss: 0.6837 - accuracy: 0.7675 - 16s/epoch - 652ms/step\n",
            "Epoch 5/10\n",
            "25/25 - 16s - loss: 0.6686 - accuracy: 0.8350 - 16s/epoch - 649ms/step\n",
            "Epoch 6/10\n",
            "25/25 - 16s - loss: 0.6239 - accuracy: 0.8650 - 16s/epoch - 634ms/step\n",
            "Epoch 7/10\n",
            "25/25 - 16s - loss: 0.5499 - accuracy: 0.9000 - 16s/epoch - 637ms/step\n",
            "Epoch 8/10\n",
            "25/25 - 16s - loss: 0.3907 - accuracy: 0.9275 - 16s/epoch - 638ms/step\n",
            "Epoch 9/10\n",
            "25/25 - 16s - loss: 0.2412 - accuracy: 0.9775 - 16s/epoch - 639ms/step\n",
            "Epoch 10/10\n",
            "25/25 - 16s - loss: 0.1865 - accuracy: 0.9850 - 16s/epoch - 633ms/step\n",
            "Query no. 4\n",
            "Model: \"sequential_10\"\n",
            "_________________________________________________________________\n",
            " Layer (type)                Output Shape              Param #   \n",
            "=================================================================\n",
            " embedding_10 (Embedding)    (None, None, 64)          640000    \n",
            "                                                                 \n",
            " bidirectional_20 (Bidirecti  (None, None, 128)        66048     \n",
            " onal)                                                           \n",
            "                                                                 \n",
            " bidirectional_21 (Bidirecti  (None, 32)               18560     \n",
            " onal)                                                           \n",
            "                                                                 \n",
            " dense_20 (Dense)            (None, 64)                2112      \n",
            "                                                                 \n",
            " dropout_10 (Dropout)        (None, 64)                0         \n",
            "                                                                 \n",
            " dense_21 (Dense)            (None, 1)                 65        \n",
            "                                                                 \n",
            "=================================================================\n",
            "Total params: 726,785\n",
            "Trainable params: 726,785\n",
            "Non-trainable params: 0\n",
            "_________________________________________________________________\n",
            "None\n",
            "Epoch 1/10\n"
          ]
        },
        {
          "output_type": "stream",
          "name": "stderr",
          "text": [
            "/usr/local/lib/python3.7/dist-packages/tensorflow/python/util/dispatch.py:1082: UserWarning: \"`binary_crossentropy` received `from_logits=True`, but the `output` argument was produced by a sigmoid or softmax activation and thus does not represent logits. Was this intended?\"\n",
            "  return dispatch_target(*args, **kwargs)\n"
          ]
        },
        {
          "output_type": "stream",
          "name": "stdout",
          "text": [
            "32/32 - 32s - loss: 0.6925 - accuracy: 0.5160 - 32s/epoch - 994ms/step\n",
            "Epoch 2/10\n",
            "32/32 - 24s - loss: 0.6904 - accuracy: 0.6080 - 24s/epoch - 764ms/step\n",
            "Epoch 3/10\n",
            "32/32 - 24s - loss: 0.6864 - accuracy: 0.6980 - 24s/epoch - 751ms/step\n",
            "Epoch 4/10\n",
            "32/32 - 24s - loss: 0.6728 - accuracy: 0.7880 - 24s/epoch - 748ms/step\n",
            "Epoch 5/10\n",
            "32/32 - 25s - loss: 0.6276 - accuracy: 0.8280 - 25s/epoch - 767ms/step\n",
            "Epoch 6/10\n",
            "32/32 - 25s - loss: 0.5369 - accuracy: 0.8940 - 25s/epoch - 770ms/step\n",
            "Epoch 7/10\n",
            "32/32 - 23s - loss: 0.3291 - accuracy: 0.9360 - 23s/epoch - 713ms/step\n",
            "Epoch 8/10\n",
            "32/32 - 23s - loss: 0.1778 - accuracy: 0.9760 - 23s/epoch - 728ms/step\n",
            "Epoch 9/10\n",
            "32/32 - 24s - loss: 0.1166 - accuracy: 0.9940 - 24s/epoch - 763ms/step\n",
            "Epoch 10/10\n",
            "32/32 - 24s - loss: 0.0798 - accuracy: 0.9940 - 24s/epoch - 741ms/step\n",
            "Query no. 5\n",
            "Model: \"sequential_11\"\n",
            "_________________________________________________________________\n",
            " Layer (type)                Output Shape              Param #   \n",
            "=================================================================\n",
            " embedding_11 (Embedding)    (None, None, 64)          640000    \n",
            "                                                                 \n",
            " bidirectional_22 (Bidirecti  (None, None, 128)        66048     \n",
            " onal)                                                           \n",
            "                                                                 \n",
            " bidirectional_23 (Bidirecti  (None, 32)               18560     \n",
            " onal)                                                           \n",
            "                                                                 \n",
            " dense_22 (Dense)            (None, 64)                2112      \n",
            "                                                                 \n",
            " dropout_11 (Dropout)        (None, 64)                0         \n",
            "                                                                 \n",
            " dense_23 (Dense)            (None, 1)                 65        \n",
            "                                                                 \n",
            "=================================================================\n",
            "Total params: 726,785\n",
            "Trainable params: 726,785\n",
            "Non-trainable params: 0\n",
            "_________________________________________________________________\n",
            "None\n",
            "Epoch 1/10\n"
          ]
        },
        {
          "output_type": "stream",
          "name": "stderr",
          "text": [
            "/usr/local/lib/python3.7/dist-packages/tensorflow/python/util/dispatch.py:1082: UserWarning: \"`binary_crossentropy` received `from_logits=True`, but the `output` argument was produced by a sigmoid or softmax activation and thus does not represent logits. Was this intended?\"\n",
            "  return dispatch_target(*args, **kwargs)\n"
          ]
        },
        {
          "output_type": "stream",
          "name": "stdout",
          "text": [
            "38/38 - 34s - loss: 0.6919 - accuracy: 0.5550 - 34s/epoch - 896ms/step\n",
            "Epoch 2/10\n",
            "38/38 - 29s - loss: 0.6875 - accuracy: 0.5733 - 29s/epoch - 764ms/step\n",
            "Epoch 3/10\n",
            "38/38 - 29s - loss: 0.6787 - accuracy: 0.5700 - 29s/epoch - 756ms/step\n",
            "Epoch 4/10\n",
            "38/38 - 29s - loss: 0.6481 - accuracy: 0.5950 - 29s/epoch - 764ms/step\n",
            "Epoch 5/10\n",
            "38/38 - 29s - loss: 0.5563 - accuracy: 0.8333 - 29s/epoch - 762ms/step\n",
            "Epoch 6/10\n",
            "38/38 - 29s - loss: 0.3859 - accuracy: 0.9367 - 29s/epoch - 775ms/step\n",
            "Epoch 7/10\n",
            "38/38 - 29s - loss: 0.2165 - accuracy: 0.9733 - 29s/epoch - 768ms/step\n",
            "Epoch 8/10\n",
            "38/38 - 30s - loss: 0.1349 - accuracy: 0.9900 - 30s/epoch - 785ms/step\n",
            "Epoch 9/10\n",
            "38/38 - 29s - loss: 0.0910 - accuracy: 0.9933 - 29s/epoch - 765ms/step\n",
            "Epoch 10/10\n",
            "38/38 - 29s - loss: 0.0662 - accuracy: 0.9983 - 29s/epoch - 769ms/step\n"
          ]
        }
      ]
    },
    {
      "cell_type": "code",
      "source": [
        "lstm_uncertainty_results #LSTM with uncertainty sampling"
      ],
      "metadata": {
        "colab": {
          "base_uri": "https://localhost:8080/"
        },
        "id": "yj0sGVfBHv10",
        "outputId": "ce5c206f-9313-41b0-e718-4b5bfc6728f3"
      },
      "execution_count": 28,
      "outputs": [
        {
          "output_type": "execute_result",
          "data": {
            "text/plain": [
              "[0.5495555555555556,\n",
              " 0.45311111111111113,\n",
              " 0.8364444444444444,\n",
              " 0.9115555555555556,\n",
              " 0.9106666666666666,\n",
              " 0.944]"
            ]
          },
          "metadata": {},
          "execution_count": 28
        }
      ]
    },
    {
      "cell_type": "markdown",
      "source": [
        "These results are then saved, run 5 times and then averaged to make the final graphs for the paper"
      ],
      "metadata": {
        "id": "zY-SNC9eS64K"
      }
    },
    {
      "cell_type": "code",
      "source": [
        "lst = [['lr_random']+ LR_random_results, \n",
        "       ['lr_uncertainty']+LR_uncertainty_results,\n",
        "      ['lstm_random']+lstm_random_results,\n",
        "      ['lstm_uncertainty']+lstm_uncertainty_results]\n",
        "df_results = pd.DataFrame(lst, columns =['AL',100,200,300,400,500,600], dtype = float)\n",
        "\n",
        "\n",
        "#df_results.to_csv('iost_accuracy_111.csv')"
      ],
      "metadata": {
        "colab": {
          "base_uri": "https://localhost:8080/"
        },
        "id": "Ghi6q_x1jrKg",
        "outputId": "070cd216-e3f9-4eb6-fc87-a511484c86b8"
      },
      "execution_count": 29,
      "outputs": [
        {
          "output_type": "stream",
          "name": "stderr",
          "text": [
            "/usr/local/lib/python3.7/dist-packages/IPython/core/interactiveshell.py:2882: FutureWarning: Could not cast to float64, falling back to object. This behavior is deprecated. In a future version, when a dtype is passed to 'DataFrame', either all columns will be cast to that dtype, or a TypeError will be raised\n",
            "  exec(code_obj, self.user_global_ns, self.user_ns)\n"
          ]
        }
      ]
    },
    {
      "cell_type": "code",
      "source": [
        "df_results"
      ],
      "metadata": {
        "colab": {
          "base_uri": "https://localhost:8080/",
          "height": 175
        },
        "id": "Fj_3AzrMnA4L",
        "outputId": "7ded781c-fe4a-4ba6-e9fe-ee070849d4bb"
      },
      "execution_count": 30,
      "outputs": [
        {
          "output_type": "execute_result",
          "data": {
            "text/plain": [
              "                 AL       100       200       300       400       500  \\\n",
              "0         lr_random  0.894222  0.904667  0.918000  0.924222  0.928000   \n",
              "1    lr_uncertainty  0.894222  0.907556  0.957111  0.963778  0.970889   \n",
              "2       lstm_random  0.549556  0.820444  0.922667  0.826222  0.884444   \n",
              "3  lstm_uncertainty  0.549556  0.453111  0.836444  0.911556  0.910667   \n",
              "\n",
              "        600  \n",
              "0  0.940000  \n",
              "1  0.972444  \n",
              "2  0.926000  \n",
              "3  0.944000  "
            ],
            "text/html": [
              "\n",
              "  <div id=\"df-89aba1a3-cd83-4334-9c23-4a38a3a46c73\">\n",
              "    <div class=\"colab-df-container\">\n",
              "      <div>\n",
              "<style scoped>\n",
              "    .dataframe tbody tr th:only-of-type {\n",
              "        vertical-align: middle;\n",
              "    }\n",
              "\n",
              "    .dataframe tbody tr th {\n",
              "        vertical-align: top;\n",
              "    }\n",
              "\n",
              "    .dataframe thead th {\n",
              "        text-align: right;\n",
              "    }\n",
              "</style>\n",
              "<table border=\"1\" class=\"dataframe\">\n",
              "  <thead>\n",
              "    <tr style=\"text-align: right;\">\n",
              "      <th></th>\n",
              "      <th>AL</th>\n",
              "      <th>100</th>\n",
              "      <th>200</th>\n",
              "      <th>300</th>\n",
              "      <th>400</th>\n",
              "      <th>500</th>\n",
              "      <th>600</th>\n",
              "    </tr>\n",
              "  </thead>\n",
              "  <tbody>\n",
              "    <tr>\n",
              "      <th>0</th>\n",
              "      <td>lr_random</td>\n",
              "      <td>0.894222</td>\n",
              "      <td>0.904667</td>\n",
              "      <td>0.918000</td>\n",
              "      <td>0.924222</td>\n",
              "      <td>0.928000</td>\n",
              "      <td>0.940000</td>\n",
              "    </tr>\n",
              "    <tr>\n",
              "      <th>1</th>\n",
              "      <td>lr_uncertainty</td>\n",
              "      <td>0.894222</td>\n",
              "      <td>0.907556</td>\n",
              "      <td>0.957111</td>\n",
              "      <td>0.963778</td>\n",
              "      <td>0.970889</td>\n",
              "      <td>0.972444</td>\n",
              "    </tr>\n",
              "    <tr>\n",
              "      <th>2</th>\n",
              "      <td>lstm_random</td>\n",
              "      <td>0.549556</td>\n",
              "      <td>0.820444</td>\n",
              "      <td>0.922667</td>\n",
              "      <td>0.826222</td>\n",
              "      <td>0.884444</td>\n",
              "      <td>0.926000</td>\n",
              "    </tr>\n",
              "    <tr>\n",
              "      <th>3</th>\n",
              "      <td>lstm_uncertainty</td>\n",
              "      <td>0.549556</td>\n",
              "      <td>0.453111</td>\n",
              "      <td>0.836444</td>\n",
              "      <td>0.911556</td>\n",
              "      <td>0.910667</td>\n",
              "      <td>0.944000</td>\n",
              "    </tr>\n",
              "  </tbody>\n",
              "</table>\n",
              "</div>\n",
              "      <button class=\"colab-df-convert\" onclick=\"convertToInteractive('df-89aba1a3-cd83-4334-9c23-4a38a3a46c73')\"\n",
              "              title=\"Convert this dataframe to an interactive table.\"\n",
              "              style=\"display:none;\">\n",
              "        \n",
              "  <svg xmlns=\"http://www.w3.org/2000/svg\" height=\"24px\"viewBox=\"0 0 24 24\"\n",
              "       width=\"24px\">\n",
              "    <path d=\"M0 0h24v24H0V0z\" fill=\"none\"/>\n",
              "    <path d=\"M18.56 5.44l.94 2.06.94-2.06 2.06-.94-2.06-.94-.94-2.06-.94 2.06-2.06.94zm-11 1L8.5 8.5l.94-2.06 2.06-.94-2.06-.94L8.5 2.5l-.94 2.06-2.06.94zm10 10l.94 2.06.94-2.06 2.06-.94-2.06-.94-.94-2.06-.94 2.06-2.06.94z\"/><path d=\"M17.41 7.96l-1.37-1.37c-.4-.4-.92-.59-1.43-.59-.52 0-1.04.2-1.43.59L10.3 9.45l-7.72 7.72c-.78.78-.78 2.05 0 2.83L4 21.41c.39.39.9.59 1.41.59.51 0 1.02-.2 1.41-.59l7.78-7.78 2.81-2.81c.8-.78.8-2.07 0-2.86zM5.41 20L4 18.59l7.72-7.72 1.47 1.35L5.41 20z\"/>\n",
              "  </svg>\n",
              "      </button>\n",
              "      \n",
              "  <style>\n",
              "    .colab-df-container {\n",
              "      display:flex;\n",
              "      flex-wrap:wrap;\n",
              "      gap: 12px;\n",
              "    }\n",
              "\n",
              "    .colab-df-convert {\n",
              "      background-color: #E8F0FE;\n",
              "      border: none;\n",
              "      border-radius: 50%;\n",
              "      cursor: pointer;\n",
              "      display: none;\n",
              "      fill: #1967D2;\n",
              "      height: 32px;\n",
              "      padding: 0 0 0 0;\n",
              "      width: 32px;\n",
              "    }\n",
              "\n",
              "    .colab-df-convert:hover {\n",
              "      background-color: #E2EBFA;\n",
              "      box-shadow: 0px 1px 2px rgba(60, 64, 67, 0.3), 0px 1px 3px 1px rgba(60, 64, 67, 0.15);\n",
              "      fill: #174EA6;\n",
              "    }\n",
              "\n",
              "    [theme=dark] .colab-df-convert {\n",
              "      background-color: #3B4455;\n",
              "      fill: #D2E3FC;\n",
              "    }\n",
              "\n",
              "    [theme=dark] .colab-df-convert:hover {\n",
              "      background-color: #434B5C;\n",
              "      box-shadow: 0px 1px 3px 1px rgba(0, 0, 0, 0.15);\n",
              "      filter: drop-shadow(0px 1px 2px rgba(0, 0, 0, 0.3));\n",
              "      fill: #FFFFFF;\n",
              "    }\n",
              "  </style>\n",
              "\n",
              "      <script>\n",
              "        const buttonEl =\n",
              "          document.querySelector('#df-89aba1a3-cd83-4334-9c23-4a38a3a46c73 button.colab-df-convert');\n",
              "        buttonEl.style.display =\n",
              "          google.colab.kernel.accessAllowed ? 'block' : 'none';\n",
              "\n",
              "        async function convertToInteractive(key) {\n",
              "          const element = document.querySelector('#df-89aba1a3-cd83-4334-9c23-4a38a3a46c73');\n",
              "          const dataTable =\n",
              "            await google.colab.kernel.invokeFunction('convertToInteractive',\n",
              "                                                     [key], {});\n",
              "          if (!dataTable) return;\n",
              "\n",
              "          const docLinkHtml = 'Like what you see? Visit the ' +\n",
              "            '<a target=\"_blank\" href=https://colab.research.google.com/notebooks/data_table.ipynb>data table notebook</a>'\n",
              "            + ' to learn more about interactive tables.';\n",
              "          element.innerHTML = '';\n",
              "          dataTable['output_type'] = 'display_data';\n",
              "          await google.colab.output.renderOutput(dataTable, element);\n",
              "          const docLink = document.createElement('div');\n",
              "          docLink.innerHTML = docLinkHtml;\n",
              "          element.appendChild(docLink);\n",
              "        }\n",
              "      </script>\n",
              "    </div>\n",
              "  </div>\n",
              "  "
            ]
          },
          "metadata": {},
          "execution_count": 30
        }
      ]
    },
    {
      "cell_type": "markdown",
      "source": [
        "Draw graphs- an example of a graph for baseline models only. "
      ],
      "metadata": {
        "id": "ym2U4w26D5mm"
      }
    },
    {
      "cell_type": "code",
      "source": [
        "#######################Graph for the baseline model results\n",
        "\n",
        "len_num=len(LR_random_results)\n",
        "with plt.style.context('seaborn-white'):\n",
        "    plt.figure(figsize=(10, 5))\n",
        "    plt.title('Accuracy of Baseline Models during the active learning')\n",
        "    plt.plot(np.arange(len_num), LR_random_results, label=\"LR_random_result\",linestyle='dashed')\n",
        "    plt.scatter(np.arange(len_num), LR_random_results)\n",
        "    plt.plot(np.arange(len_num), LR_uncertainty_results, label=\"LR_uncertainty_result\")\n",
        "    plt.scatter(np.arange(len_num), LR_uncertainty_results)\n",
        "    plt.plot(np.arange(len_num), lstm_random_results, label=\"LSTM_random_result\",linestyle='dashed')\n",
        "    plt.scatter(np.arange(len_num), lstm_random_results)\n",
        "    plt.plot(np.arange(len_num), lstm_uncertainty_results, label=\"LSTM_uncertainty_result\")\n",
        "    plt.scatter(np.arange(len_num), lstm_uncertainty_results)\n",
        "    plt.xlabel('Number of queries')\n",
        "    plt.ylabel('Accuracy')\n",
        "    plt.legend(loc=\"lower right\")\n",
        "    plt.xticks(range(0,len_num))\n",
        "    plt.show()"
      ],
      "metadata": {
        "id": "l6zGj6TJbZUA",
        "colab": {
          "base_uri": "https://localhost:8080/",
          "height": 345
        },
        "outputId": "2fe5631b-0785-4456-8adf-ab8b4a270f03"
      },
      "execution_count": 31,
      "outputs": [
        {
          "output_type": "display_data",
          "data": {
            "text/plain": [
              "<Figure size 720x360 with 1 Axes>"
            ],
            "image/png": "[encoded data removed]"
          },
          "metadata": {}
        }
      ]
    }
  ]
}