{
  "nbformat": 4,
  "nbformat_minor": 0,
  "metadata": {
    "colab": {
      "name": "Experiment 1: Baseline Models(LR, LSTM).ipynb",
      "provenance": [],
      "collapsed_sections": [],
      "authorship_tag": "ABX9TyN5Rxp0I63kUieMlhZOmFBq",
      "include_colab_link": true
    },
    "kernelspec": {
      "name": "python3",
      "display_name": "Python 3"
    },
    "language_info": {
      "name": "python"
    },
    "accelerator": "GPU"
  },
  "cells": [
    {
      "cell_type": "markdown",
      "metadata": {
        "id": "view-in-github",
        "colab_type": "text"
      },
      "source": [
        "<a href=\"https://colab.research.google.com/github/gloxy115/Active-Learning-for-Fake-News-Classification-Using-BERT/blob/main/Experiment_1_Baseline_Models(LR%2C_LSTM).ipynb\" target=\"_parent\"><img src=\"https://colab.research.google.com/assets/colab-badge.svg\" alt=\"Open In Colab\"/></a>"
      ]
    },
    {
      "cell_type": "code",
      "execution_count": null,
      "metadata": {
        "colab": {
          "base_uri": "https://localhost:8080/"
        },
        "id": "u1V4C9VteIaF",
        "outputId": "4302c1e8-bb99-4b4f-92ed-184815003119"
      },
      "outputs": [
        {
          "output_type": "stream",
          "name": "stdout",
          "text": [
            "Mounted at /content/drive\n"
          ]
        }
      ],
      "source": [
        "from google.colab import drive\n",
        "drive.mount('/content/drive')"
      ]
    },
    {
      "cell_type": "code",
      "source": [
        "path = '/content/drive/MyDrive/'\n",
        "import matplotlib.pyplot as plt\n",
        "%matplotlib inline\n",
        "import sys\n",
        "import numpy as np\n",
        "import pandas as pd\n",
        "import os\n",
        "import random\n",
        "import heapq\n",
        "import gc\n",
        "from scipy.spatial import distance_matrix\n",
        "from IPython import display\n",
        "import re\n",
        "from sklearn.model_selection import train_test_split\n",
        "from sklearn.metrics import accuracy_score, confusion_matrix, precision_score, recall_score, f1_score,classification_report\n",
        "from sklearn.feature_extraction.text import CountVectorizer\n",
        "from sklearn.linear_model import LogisticRegression\n",
        "from sklearn.pipeline import make_pipeline\n",
        "import tensorflow as tf\n",
        "from tensorflow.keras.preprocessing.text import Tokenizer\n",
        "from keras.preprocessing.sequence import pad_sequences\n",
        "from keras.models import Sequential\n",
        "from keras import layers\n",
        "from keras.wrappers.scikit_learn import KerasClassifier"
      ],
      "metadata": {
        "id": "kMQaXmXoDHul"
      },
      "execution_count": null,
      "outputs": []
    },
    {
      "cell_type": "code",
      "source": [
        "!pip install git+https://github.com/modAL-python/modAL.git  #install modAL package"
      ],
      "metadata": {
        "colab": {
          "base_uri": "https://localhost:8080/"
        },
        "id": "vkH1zG47kdPl",
        "outputId": "67836801-5c55-499f-c579-9aa19343826c"
      },
      "execution_count": null,
      "outputs": [
        {
          "output_type": "stream",
          "name": "stdout",
          "text": [
            "Looking in indexes: https://pypi.org/simple, https://us-python.pkg.dev/colab-wheels/public/simple/\n",
            "Collecting git+https://github.com/modAL-python/modAL.git\n",
            "  Cloning https://github.com/modAL-python/modAL.git to /tmp/pip-req-build-tqkbjjl3\n",
            "  Running command git clone -q https://github.com/modAL-python/modAL.git /tmp/pip-req-build-tqkbjjl3\n",
            "Requirement already satisfied: numpy>=1.13 in /usr/local/lib/python3.7/dist-packages (from modAL==0.4.1) (1.21.6)\n",
            "Requirement already satisfied: scikit-learn>=0.18 in /usr/local/lib/python3.7/dist-packages (from modAL==0.4.1) (1.0.2)\n",
            "Requirement already satisfied: scipy>=0.18 in /usr/local/lib/python3.7/dist-packages (from modAL==0.4.1) (1.4.1)\n",
            "Requirement already satisfied: pandas>=1.1.0 in /usr/local/lib/python3.7/dist-packages (from modAL==0.4.1) (1.3.5)\n",
            "Requirement already satisfied: python-dateutil>=2.7.3 in /usr/local/lib/python3.7/dist-packages (from pandas>=1.1.0->modAL==0.4.1) (2.8.2)\n",
            "Requirement already satisfied: pytz>=2017.3 in /usr/local/lib/python3.7/dist-packages (from pandas>=1.1.0->modAL==0.4.1) (2022.1)\n",
            "Requirement already satisfied: six>=1.5 in /usr/local/lib/python3.7/dist-packages (from python-dateutil>=2.7.3->pandas>=1.1.0->modAL==0.4.1) (1.15.0)\n",
            "Requirement already satisfied: threadpoolctl>=2.0.0 in /usr/local/lib/python3.7/dist-packages (from scikit-learn>=0.18->modAL==0.4.1) (3.1.0)\n",
            "Requirement already satisfied: joblib>=0.11 in /usr/local/lib/python3.7/dist-packages (from scikit-learn>=0.18->modAL==0.4.1) (1.1.0)\n",
            "Building wheels for collected packages: modAL\n",
            "  Building wheel for modAL (setup.py) ... \u001b[?25l\u001b[?25hdone\n",
            "  Created wheel for modAL: filename=modAL-0.4.1-py3-none-any.whl size=27938 sha256=d4dc5827217c0169cc6845bb27b994f1b0da43603218869c40ad8587e98b6fe8\n",
            "  Stored in directory: /tmp/pip-ephem-wheel-cache-r6dgz6s4/wheels/c1/2f/cc/f2157ab6d756e6ef8f9b2165f1baa6be615c9f25b93661957a\n",
            "Successfully built modAL\n",
            "Installing collected packages: modAL\n",
            "Successfully installed modAL-0.4.1\n"
          ]
        }
      ]
    },
    {
      "cell_type": "code",
      "source": [
        "from modAL.models import ActiveLearner\n",
        "from modAL.uncertainty import uncertainty_sampling   #randomsampling is not included in the package so is defined as a function later"
      ],
      "metadata": {
        "id": "0_raqaB-FRCB"
      },
      "execution_count": null,
      "outputs": []
    },
    {
      "cell_type": "code",
      "source": [
        "def set_seed(x):  #setting the seed so the initial result is same for the same model\n",
        "  seed_value= x\n",
        "  # 1. Set `PYTHONHASHSEED` environment variable at a fixed value\n",
        "  os.environ['PYTHONHASHSEED']=str(seed_value)\n",
        "\n",
        "  # 2. Set `python` built-in pseudo-random generator at a fixed valu\n",
        "  random.seed(seed_value)\n",
        "\n",
        "  # 3. Set `numpy` pseudo-random generator at a fixed value\n",
        "\n",
        "  np.random.seed(seed_value)\n",
        "\n",
        "# 4. Set the `tensorflow` pseudo-random generator at a fixed value\n",
        "\n",
        "  tf.random.set_seed(seed_value)\n",
        "\n",
        "# 5. Configure a new global `tensorflow` session\n",
        "  from keras import backend as K\n",
        "\n",
        "  session_conf = tf.compat.v1.ConfigProto(intra_op_parallelism_threads=1, inter_op_parallelism_threads=1)\n",
        "  sess = tf.compat.v1.Session(graph=tf.compat.v1.get_default_graph(), config=session_conf)\n",
        "  tf.compat.v1.keras.backend.set_session(sess)\n",
        "  tf.keras.utils.set_random_seed(seed_value)  # sets seeds for base-python, numpy and tf\n",
        "  tf.config.experimental.enable_op_determinism()\n"
      ],
      "metadata": {
        "id": "obQIuyUzxV_V"
      },
      "execution_count": null,
      "outputs": []
    },
    {
      "cell_type": "markdown",
      "source": [
        "# select a data to have it as a train_data, in this notebook, I ran it for ISOT"
      ],
      "metadata": {
        "id": "1hrnFVndGAN4"
      }
    },
    {
      "cell_type": "code",
      "source": [
        "#ISOT\n",
        "\n",
        "train_data = pd.read_csv(path + 'ISOT_may.csv', encoding=\"ISO-8859-1\")\n"
      ],
      "metadata": {
        "id": "FBmkz5lLkBO6"
      },
      "execution_count": null,
      "outputs": []
    },
    {
      "cell_type": "code",
      "source": [
        "#politifact\n",
        "\n",
        "#train_data = pd.read_csv(path + 'Politifact_may.csv', encoding=\"ISO-8859-1\")\n"
      ],
      "metadata": {
        "id": "KJqPvn1PkCJ_"
      },
      "execution_count": null,
      "outputs": []
    },
    {
      "cell_type": "code",
      "source": [
        "#cc\n",
        "\n",
        "#train_data = pd.read_csv(path + 'CC_may.csv', encoding=\"ISO-8859-1\")\n"
      ],
      "metadata": {
        "id": "YBD01E5_kO9x"
      },
      "execution_count": null,
      "outputs": []
    },
    {
      "cell_type": "code",
      "source": [
        "#kaggle\n",
        "\n",
        "#train_data = pd.read_csv(path + 'Kaggle_may.csv', encoding=\"ISO-8859-1\")\n"
      ],
      "metadata": {
        "id": "h4Y3vxAqkRVZ"
      },
      "execution_count": null,
      "outputs": []
    },
    {
      "cell_type": "code",
      "source": [
        "#covid\n",
        "\n",
        "#train_data = pd.read_csv(path + 'Covid_may.csv', encoding=\"ISO-8859-1\")\n"
      ],
      "metadata": {
        "id": "Xe5tyczBJGR_"
      },
      "execution_count": null,
      "outputs": []
    },
    {
      "cell_type": "markdown",
      "source": [
        "Prep"
      ],
      "metadata": {
        "id": "8x9AshsxEQAP"
      }
    },
    {
      "cell_type": "code",
      "source": [
        "set_seed(555)  #setting the seed "
      ],
      "metadata": {
        "id": "NrUqiVXptd1B"
      },
      "execution_count": null,
      "outputs": []
    },
    {
      "cell_type": "code",
      "source": [
        "def trun(data):  #this function truncates the text data so its same length(510) as the input for BERT\n",
        "    normalized = []\n",
        "    for i in data:\n",
        "        i = ' '.join(i.split()[:510])\n",
        "        normalized.append(i)\n",
        "    return normalized"
      ],
      "metadata": {
        "id": "TkqJMwVOMANo"
      },
      "execution_count": null,
      "outputs": []
    },
    {
      "cell_type": "code",
      "source": [
        "TEST_SIZE=0.3 #30% of the dataset is test data\n",
        "\n",
        "train_data=train_data.dropna()\n",
        "train_data=train_data[['text','labels']]  \n",
        "train_data=train_data.drop_duplicates(subset=['text', 'labels'], keep='last')\n",
        "\n",
        "if len(train_data)>15000:  # if the dataset is more than 15000 instances, randomly select 15000\n",
        "  train_data = train_data.sample(15000).reset_index(drop=True)\n",
        "\n",
        "train_data, test_data = train_test_split(train_data, test_size=TEST_SIZE)\n",
        "train_data = train_data.reset_index(drop=True)\n",
        "\n",
        "##first 510 words\n",
        "train_data['text']=trun(train_data['text'])\n",
        "train_data = train_data.to_dict(orient='records')\n",
        "test_data = test_data.to_dict(orient='records')\n",
        "train_texts, train_labels = list(zip(*map(lambda d: (d['text'], d['labels']), train_data)))\n",
        "test_texts, test_labels = list(zip(*map(lambda d: (d['text'], d['labels']), test_data)))\n",
        "\n",
        "train_y = np.array(train_labels) == 1\n",
        "test_y = np.array(test_labels) == 1"
      ],
      "metadata": {
        "id": "1SacMNzHESaz"
      },
      "execution_count": null,
      "outputs": []
    },
    {
      "cell_type": "markdown",
      "source": [
        "Logistic Regression with modAL package"
      ],
      "metadata": {
        "id": "GPPE_qBKD2Rj"
      }
    },
    {
      "cell_type": "code",
      "source": [
        "vectorizer = CountVectorizer(ngram_range=(1,3))\n",
        "e=vectorizer.fit_transform(train_texts)\n",
        "l=vectorizer.transform(test_texts)\n",
        "\n",
        "# assemble initial data\n",
        "n_initial = 100\n",
        "initial_idx = np.random.choice(range(len(train_texts)), size=n_initial, replace=False)\n",
        "X_initial = np.array(train_texts)[initial_idx]\n",
        "y_initial = np.array(train_labels)[initial_idx]\n",
        "\n",
        "# generate the pool\n",
        "# remove the initial data from the training dataset\n",
        "X_pool = np.delete(train_texts, initial_idx, axis=0)\n",
        "y_pool = np.delete(train_labels, initial_idx, axis=0)"
      ],
      "metadata": {
        "id": "L6kssM1pF3NA"
      },
      "execution_count": null,
      "outputs": []
    },
    {
      "cell_type": "code",
      "source": [
        "# initialize ActiveLearner\n",
        "learner = ActiveLearner(\n",
        "    estimator=LogisticRegression(),\n",
        "    X_training=vectorizer.transform(X_initial), y_training=y_initial,\n",
        ")\n",
        "\n",
        "# the active learning loop\n",
        "LR_uncertainty_results = [accuracy_score(test_labels, learner.predict(l))]\n",
        "n_queries = 5\n",
        "for idx in range(n_queries):\n",
        "    print('Query no. %d' % (idx + 1))\n",
        "    query_idx, query_instance = learner.query(vectorizer.transform(X_pool), n_instances=100)\n",
        "    learner.teach(\n",
        "        X=vectorizer.transform(X_pool[query_idx]), y=y_pool[query_idx]\n",
        "    )\n",
        "    # remove queried instance from pool\n",
        "    X_pool = np.delete(X_pool, query_idx, axis=0)\n",
        "    y_pool = np.delete(y_pool, query_idx, axis=0)\n",
        "    LR_uncertainty_results.append(accuracy_score(test_labels, learner.predict(l)))"
      ],
      "metadata": {
        "id": "KT2EfbENF91M",
        "colab": {
          "base_uri": "https://localhost:8080/"
        },
        "outputId": "324cc30a-6c17-4273-94ff-1fe4e51d9285"
      },
      "execution_count": null,
      "outputs": [
        {
          "output_type": "stream",
          "name": "stdout",
          "text": [
            "Query no. 1\n",
            "Query no. 2\n",
            "Query no. 3\n",
            "Query no. 4\n",
            "Query no. 5\n"
          ]
        }
      ]
    },
    {
      "cell_type": "code",
      "source": [
        "LR_uncertainty_results  #Logistic regression + Uncertainty sampling results"
      ],
      "metadata": {
        "colab": {
          "base_uri": "https://localhost:8080/"
        },
        "id": "W1enWKG7GBj0",
        "outputId": "0b5deaba-4868-4971-9b91-cc9e0156d56f"
      },
      "execution_count": null,
      "outputs": [
        {
          "output_type": "execute_result",
          "data": {
            "text/plain": [
              "[0.8604444444444445,\n",
              " 0.9417777777777778,\n",
              " 0.9564444444444444,\n",
              " 0.9682222222222222,\n",
              " 0.9677777777777777,\n",
              " 0.9722222222222222]"
            ]
          },
          "metadata": {},
          "execution_count": 12
        }
      ]
    },
    {
      "cell_type": "code",
      "source": [
        "def random_sampling(classifier, X_pool,n_instances):  #defining random sampling\n",
        "    n_samples = 100\n",
        "    query_idx = np.random.choice(range(n_samples),size=n_instances)\n",
        "    return query_idx, X_pool[query_idx]\n",
        "\n",
        "\n",
        "del learner\n",
        "# initialize ActiveLearner\n",
        "learner = ActiveLearner(\n",
        "    estimator=LogisticRegression(),\n",
        "    query_strategy=random_sampling,\n",
        "    X_training=vectorizer.transform(X_initial), y_training=y_initial,\n",
        ")\n",
        "\n",
        "# generate the pool\n",
        "# remove the initial data from the training dataset\n",
        "X_pool = np.delete(train_texts, initial_idx, axis=0)\n",
        "y_pool = np.delete(train_labels, initial_idx, axis=0)\n",
        "\n",
        "# the active learning loop\n",
        "LR_random_results = [accuracy_score(test_labels, learner.predict(l))]\n",
        "n_queries = 5\n",
        "for idx in range(n_queries):\n",
        "    print('Query no. %d' % (idx + 1))\n",
        "    query_idx, query_instance = learner.query(vectorizer.transform(X_pool), n_instances=100)\n",
        "    learner.teach(\n",
        "        X=vectorizer.transform(X_pool[query_idx]), y=y_pool[query_idx]\n",
        "    )\n",
        "    # remove queried instance from pool\n",
        "    X_pool = np.delete(X_pool, query_idx, axis=0)\n",
        "    y_pool = np.delete(y_pool, query_idx, axis=0)\n",
        "    LR_random_results.append(accuracy_score(test_labels, learner.predict(l)))"
      ],
      "metadata": {
        "id": "wlWktZ8lGDQv",
        "colab": {
          "base_uri": "https://localhost:8080/"
        },
        "outputId": "260f85a4-d06e-4aa4-d6bf-ea071e97351a"
      },
      "execution_count": null,
      "outputs": [
        {
          "output_type": "stream",
          "name": "stdout",
          "text": [
            "Query no. 1\n",
            "Query no. 2\n",
            "Query no. 3\n",
            "Query no. 4\n",
            "Query no. 5\n"
          ]
        }
      ]
    },
    {
      "cell_type": "code",
      "source": [
        "LR_random_results   #Logistic Regression + Random Sampling results"
      ],
      "metadata": {
        "colab": {
          "base_uri": "https://localhost:8080/"
        },
        "id": "MjHs5b91GKBS",
        "outputId": "c3ce0d82-3488-4078-9855-d17af875cc93"
      },
      "execution_count": null,
      "outputs": [
        {
          "output_type": "execute_result",
          "data": {
            "text/plain": [
              "[0.8604444444444445,\n",
              " 0.8922222222222222,\n",
              " 0.9128888888888889,\n",
              " 0.9284444444444444,\n",
              " 0.9388888888888889,\n",
              " 0.9455555555555556]"
            ]
          },
          "metadata": {},
          "execution_count": 14
        }
      ]
    },
    {
      "cell_type": "markdown",
      "source": [
        "LSTM with modAL package"
      ],
      "metadata": {
        "id": "o5cvXA71D4ce"
      }
    },
    {
      "cell_type": "code",
      "source": [
        "set_seed(555)"
      ],
      "metadata": {
        "id": "XSkl_kP8xcW_"
      },
      "execution_count": null,
      "outputs": []
    },
    {
      "cell_type": "code",
      "source": [
        "#ISOT\n",
        "train_data = pd.read_csv(path + 'ISOT_may.csv', encoding=\"ISO-8859-1\")\n"
      ],
      "metadata": {
        "id": "ynTY1GpEf8qp"
      },
      "execution_count": null,
      "outputs": []
    },
    {
      "cell_type": "code",
      "source": [
        "train_data=train_data.dropna()\n",
        "train_data=train_data[['text','labels']] \n",
        "train_data=train_data.drop_duplicates(subset=['text', 'labels'], keep='last')\n",
        "\n",
        "TEST_SIZE=0.3\n",
        "if len(train_data)>15000:\n",
        "  train_data = train_data.sample(15000).reset_index(drop=True)\n",
        "\n",
        "\n",
        "train_data, test_data = train_test_split(train_data, test_size=TEST_SIZE)\n",
        "train_data = train_data.reset_index(drop=True)\n",
        "\n",
        "X_train=train_data['text']\n",
        "y_train=train_data['labels']\n",
        "X_test=test_data['text']\n",
        "y_test=test_data['labels']\n",
        "\n",
        "vocab_size = 10000\n",
        "embedding_dim = 64\n",
        "max_length = 510  \n",
        "trunc_type = 'post'\n",
        "padding_type = 'post'\n",
        "oov_tok = '<OOV>'\n",
        "\n",
        "tokenizer = Tokenizer(num_words = vocab_size, oov_token=oov_tok)\n",
        "tokenizer.fit_on_texts(X_train)\n",
        "\n",
        "X_train = tokenizer.texts_to_sequences(X_train)\n",
        "X_test = tokenizer.texts_to_sequences(X_test)\n",
        "\n",
        "X_train = tf.keras.preprocessing.sequence.pad_sequences(X_train, padding=padding_type, truncating=trunc_type, maxlen=max_length)\n",
        "X_test = tf.keras.preprocessing.sequence.pad_sequences(X_test, padding=padding_type, truncating=trunc_type, maxlen=max_length)\n",
        "\n",
        "n_initial = 100\n",
        "initial_idx = np.random.choice(range(len(X_train)), size=n_initial, replace=False)\n",
        "pool_idx=[x for x in list(np.arange(0,len(X_train))) if (x not in initial_idx)]\n",
        "pool_idx=np.array(pool_idx)\n",
        "X_initial = X_train[initial_idx]\n",
        "y_initial = y_train[initial_idx].to_numpy()\n",
        "\n",
        "# generate the pool\n",
        "# remove the initial data from the training dataset\n",
        "X_pool = np.delete(X_train, initial_idx, axis=0)\n",
        "y_pool = y_train[pool_idx].to_numpy()\n",
        "\n",
        "\n",
        "#LSTM model created with Keras package\n",
        "def keras_LSTM():\n",
        "    model=Sequential()\n",
        "    model.add(layers.Embedding(vocab_size, embedding_dim))\n",
        "    model.add(layers.Bidirectional(layers.LSTM(embedding_dim,  return_sequences=True)))\n",
        "    model.add(layers.Bidirectional(layers.LSTM(16)))\n",
        "    model.add(layers.Dense(embedding_dim,activation='relu'))\n",
        "    model.add(layers.Dropout(0.5))\n",
        "    model.add(layers.Dense(1, activation=\"sigmoid\"))\n",
        "    model.compile(loss=tf.keras.losses.BinaryCrossentropy(from_logits=True),optimizer=tf.keras.optimizers.Adam(1e-4),\n",
        "              metrics=['accuracy'])\n",
        "    \n",
        "    print(model.summary())\n",
        "    return model\n",
        "keras_lstm=KerasClassifier(keras_LSTM)\n",
        "\n",
        "def random_sampling(classifier, X_pool,n_instances):\n",
        "    n_samples = 100\n",
        "    query_idx = np.random.choice(range(n_samples),size=n_instances)\n",
        "    return query_idx, X_pool[query_idx]"
      ],
      "metadata": {
        "id": "LCEMj6qiHLkF",
        "colab": {
          "base_uri": "https://localhost:8080/"
        },
        "outputId": "ed6b24f4-bd15-42a2-f4a2-69507af7e108"
      },
      "execution_count": null,
      "outputs": [
        {
          "output_type": "stream",
          "name": "stderr",
          "text": [
            "/usr/local/lib/python3.7/dist-packages/ipykernel_launcher.py:68: DeprecationWarning: KerasClassifier is deprecated, use Sci-Keras (https://github.com/adriangb/scikeras) instead. See https://www.adriangb.com/scikeras/stable/migration.html for help migrating.\n"
          ]
        }
      ]
    },
    {
      "cell_type": "code",
      "source": [
        "# initialize ActiveLearner for random sampling\n",
        "learner = ActiveLearner(\n",
        "    estimator=keras_lstm,\n",
        "    query_strategy=random_sampling,\n",
        "    X_training=X_initial, y_training=y_initial, epochs=10, shuffle=True, batch_size=16,verbose=2\n",
        ")"
      ],
      "metadata": {
        "colab": {
          "base_uri": "https://localhost:8080/"
        },
        "id": "l0n6zP7_HeOy",
        "outputId": "5008538e-ee3c-43e6-c321-485d858a551a"
      },
      "execution_count": null,
      "outputs": [
        {
          "output_type": "stream",
          "name": "stdout",
          "text": [
            "Model: \"sequential\"\n",
            "_________________________________________________________________\n",
            " Layer (type)                Output Shape              Param #   \n",
            "=================================================================\n",
            " embedding (Embedding)       (None, None, 64)          640000    \n",
            "                                                                 \n",
            " bidirectional (Bidirectiona  (None, None, 128)        66048     \n",
            " l)                                                              \n",
            "                                                                 \n",
            " bidirectional_1 (Bidirectio  (None, 32)               18560     \n",
            " nal)                                                            \n",
            "                                                                 \n",
            " dense (Dense)               (None, 64)                2112      \n",
            "                                                                 \n",
            " dropout (Dropout)           (None, 64)                0         \n",
            "                                                                 \n",
            " dense_1 (Dense)             (None, 1)                 65        \n",
            "                                                                 \n",
            "=================================================================\n",
            "Total params: 726,785\n",
            "Trainable params: 726,785\n",
            "Non-trainable params: 0\n",
            "_________________________________________________________________\n",
            "None\n",
            "Epoch 1/10\n"
          ]
        },
        {
          "output_type": "stream",
          "name": "stderr",
          "text": [
            "/usr/local/lib/python3.7/dist-packages/tensorflow/python/util/dispatch.py:1082: UserWarning: \"`binary_crossentropy` received `from_logits=True`, but the `output` argument was produced by a sigmoid or softmax activation and thus does not represent logits. Was this intended?\"\n",
            "  return dispatch_target(*args, **kwargs)\n"
          ]
        },
        {
          "output_type": "stream",
          "name": "stdout",
          "text": [
            "7/7 - 12s - loss: 0.6926 - accuracy: 0.5700 - 12s/epoch - 2s/step\n",
            "Epoch 2/10\n",
            "7/7 - 0s - loss: 0.6914 - accuracy: 0.5600 - 395ms/epoch - 56ms/step\n",
            "Epoch 3/10\n",
            "7/7 - 0s - loss: 0.6910 - accuracy: 0.5300 - 383ms/epoch - 55ms/step\n",
            "Epoch 4/10\n",
            "7/7 - 0s - loss: 0.6903 - accuracy: 0.6000 - 392ms/epoch - 56ms/step\n",
            "Epoch 5/10\n",
            "7/7 - 0s - loss: 0.6886 - accuracy: 0.6500 - 405ms/epoch - 58ms/step\n",
            "Epoch 6/10\n",
            "7/7 - 0s - loss: 0.6861 - accuracy: 0.6700 - 381ms/epoch - 54ms/step\n",
            "Epoch 7/10\n",
            "7/7 - 0s - loss: 0.6872 - accuracy: 0.6600 - 385ms/epoch - 55ms/step\n",
            "Epoch 8/10\n",
            "7/7 - 0s - loss: 0.6849 - accuracy: 0.6900 - 392ms/epoch - 56ms/step\n",
            "Epoch 9/10\n",
            "7/7 - 0s - loss: 0.6824 - accuracy: 0.7100 - 391ms/epoch - 56ms/step\n",
            "Epoch 10/10\n",
            "7/7 - 0s - loss: 0.6798 - accuracy: 0.7000 - 396ms/epoch - 57ms/step\n"
          ]
        }
      ]
    },
    {
      "cell_type": "code",
      "source": [
        "accuracy_score(y_test.astype(int), learner.predict(X_test).flatten().astype(int))"
      ],
      "metadata": {
        "colab": {
          "base_uri": "https://localhost:8080/"
        },
        "id": "lto6PffkrDJG",
        "outputId": "19dac484-704b-4982-d73a-13e8652ff36d"
      },
      "execution_count": null,
      "outputs": [
        {
          "output_type": "execute_result",
          "data": {
            "text/plain": [
              "0.5402222222222223"
            ]
          },
          "metadata": {},
          "execution_count": 19
        }
      ]
    },
    {
      "cell_type": "code",
      "source": [
        "# the active learning loop\n",
        "\n",
        "lstm_random_results = [accuracy_score(y_test.astype(int), learner.predict(X_test).flatten().astype(int))]\n",
        "\n",
        "#lstm_random_results = [f1_score(y_test, learner.predict(X_test))]\n",
        "\n",
        "n_queries = 5\n",
        "for idx in range(n_queries):\n",
        "    print('Query no. %d' % (idx + 1))\n",
        "    query_idx, query_instance = learner.query(X_pool, n_instances=100)\n",
        "    learner.teach(\n",
        "        X=X_pool[query_idx], y=y_pool[query_idx], only_new=False,epochs=10, shuffle=True, batch_size=16,verbose=2\n",
        "    )\n",
        "    # remove queried instance from pool\n",
        "    X_pool = np.delete(X_pool, query_idx, axis=0)\n",
        "    y_pool = np.delete(y_pool, query_idx, axis=0)\n",
        "    lstm_random_results.append(accuracy_score(y_test.astype(int), learner.predict(X_test).flatten().astype(int)))\n",
        "del learner"
      ],
      "metadata": {
        "colab": {
          "base_uri": "https://localhost:8080/"
        },
        "id": "FIXsAxHAHf0p",
        "outputId": "b5779d52-6b05-428e-99bb-e3dd7fb7aa76"
      },
      "execution_count": null,
      "outputs": [
        {
          "output_type": "stream",
          "name": "stdout",
          "text": [
            "Query no. 1\n",
            "Model: \"sequential_1\"\n",
            "_________________________________________________________________\n",
            " Layer (type)                Output Shape              Param #   \n",
            "=================================================================\n",
            " embedding_1 (Embedding)     (None, None, 64)          640000    \n",
            "                                                                 \n",
            " bidirectional_2 (Bidirectio  (None, None, 128)        66048     \n",
            " nal)                                                            \n",
            "                                                                 \n",
            " bidirectional_3 (Bidirectio  (None, 32)               18560     \n",
            " nal)                                                            \n",
            "                                                                 \n",
            " dense_2 (Dense)             (None, 64)                2112      \n",
            "                                                                 \n",
            " dropout_1 (Dropout)         (None, 64)                0         \n",
            "                                                                 \n",
            " dense_3 (Dense)             (None, 1)                 65        \n",
            "                                                                 \n",
            "=================================================================\n",
            "Total params: 726,785\n",
            "Trainable params: 726,785\n",
            "Non-trainable params: 0\n",
            "_________________________________________________________________\n",
            "None\n",
            "Epoch 1/10\n"
          ]
        },
        {
          "output_type": "stream",
          "name": "stderr",
          "text": [
            "/usr/local/lib/python3.7/dist-packages/tensorflow/python/util/dispatch.py:1082: UserWarning: \"`binary_crossentropy` received `from_logits=True`, but the `output` argument was produced by a sigmoid or softmax activation and thus does not represent logits. Was this intended?\"\n",
            "  return dispatch_target(*args, **kwargs)\n"
          ]
        },
        {
          "output_type": "stream",
          "name": "stdout",
          "text": [
            "13/13 - 6s - loss: 0.6932 - accuracy: 0.4600 - 6s/epoch - 488ms/step\n",
            "Epoch 2/10\n",
            "13/13 - 1s - loss: 0.6928 - accuracy: 0.5000 - 716ms/epoch - 55ms/step\n",
            "Epoch 3/10\n",
            "13/13 - 1s - loss: 0.6916 - accuracy: 0.5900 - 757ms/epoch - 58ms/step\n",
            "Epoch 4/10\n",
            "13/13 - 1s - loss: 0.6905 - accuracy: 0.6000 - 726ms/epoch - 56ms/step\n",
            "Epoch 5/10\n",
            "13/13 - 1s - loss: 0.6892 - accuracy: 0.6600 - 742ms/epoch - 57ms/step\n",
            "Epoch 6/10\n",
            "13/13 - 1s - loss: 0.6871 - accuracy: 0.7000 - 730ms/epoch - 56ms/step\n",
            "Epoch 7/10\n",
            "13/13 - 1s - loss: 0.6856 - accuracy: 0.7100 - 723ms/epoch - 56ms/step\n",
            "Epoch 8/10\n",
            "13/13 - 1s - loss: 0.6807 - accuracy: 0.8000 - 722ms/epoch - 56ms/step\n",
            "Epoch 9/10\n",
            "13/13 - 1s - loss: 0.6737 - accuracy: 0.8450 - 713ms/epoch - 55ms/step\n",
            "Epoch 10/10\n",
            "13/13 - 1s - loss: 0.6627 - accuracy: 0.9050 - 733ms/epoch - 56ms/step\n",
            "Query no. 2\n",
            "Model: \"sequential_2\"\n",
            "_________________________________________________________________\n",
            " Layer (type)                Output Shape              Param #   \n",
            "=================================================================\n",
            " embedding_2 (Embedding)     (None, None, 64)          640000    \n",
            "                                                                 \n",
            " bidirectional_4 (Bidirectio  (None, None, 128)        66048     \n",
            " nal)                                                            \n",
            "                                                                 \n",
            " bidirectional_5 (Bidirectio  (None, 32)               18560     \n",
            " nal)                                                            \n",
            "                                                                 \n",
            " dense_4 (Dense)             (None, 64)                2112      \n",
            "                                                                 \n",
            " dropout_2 (Dropout)         (None, 64)                0         \n",
            "                                                                 \n",
            " dense_5 (Dense)             (None, 1)                 65        \n",
            "                                                                 \n",
            "=================================================================\n",
            "Total params: 726,785\n",
            "Trainable params: 726,785\n",
            "Non-trainable params: 0\n",
            "_________________________________________________________________\n",
            "None\n",
            "Epoch 1/10\n"
          ]
        },
        {
          "output_type": "stream",
          "name": "stderr",
          "text": [
            "/usr/local/lib/python3.7/dist-packages/tensorflow/python/util/dispatch.py:1082: UserWarning: \"`binary_crossentropy` received `from_logits=True`, but the `output` argument was produced by a sigmoid or softmax activation and thus does not represent logits. Was this intended?\"\n",
            "  return dispatch_target(*args, **kwargs)\n"
          ]
        },
        {
          "output_type": "stream",
          "name": "stdout",
          "text": [
            "19/19 - 7s - loss: 0.6933 - accuracy: 0.4800 - 7s/epoch - 359ms/step\n",
            "Epoch 2/10\n",
            "19/19 - 1s - loss: 0.6928 - accuracy: 0.5100 - 1s/epoch - 57ms/step\n",
            "Epoch 3/10\n",
            "19/19 - 1s - loss: 0.6917 - accuracy: 0.5933 - 1s/epoch - 59ms/step\n",
            "Epoch 4/10\n",
            "19/19 - 2s - loss: 0.6906 - accuracy: 0.6800 - 2s/epoch - 81ms/step\n",
            "Epoch 5/10\n",
            "19/19 - 1s - loss: 0.6886 - accuracy: 0.7300 - 1s/epoch - 55ms/step\n",
            "Epoch 6/10\n",
            "19/19 - 1s - loss: 0.6849 - accuracy: 0.8133 - 1s/epoch - 56ms/step\n",
            "Epoch 7/10\n",
            "19/19 - 1s - loss: 0.6748 - accuracy: 0.8967 - 1s/epoch - 55ms/step\n",
            "Epoch 8/10\n",
            "19/19 - 1s - loss: 0.6442 - accuracy: 0.8667 - 1s/epoch - 55ms/step\n",
            "Epoch 9/10\n",
            "19/19 - 1s - loss: 0.5748 - accuracy: 0.8600 - 1s/epoch - 55ms/step\n",
            "Epoch 10/10\n",
            "19/19 - 1s - loss: 0.4786 - accuracy: 0.9300 - 1s/epoch - 55ms/step\n",
            "Query no. 3\n",
            "Model: \"sequential_3\"\n",
            "_________________________________________________________________\n",
            " Layer (type)                Output Shape              Param #   \n",
            "=================================================================\n",
            " embedding_3 (Embedding)     (None, None, 64)          640000    \n",
            "                                                                 \n",
            " bidirectional_6 (Bidirectio  (None, None, 128)        66048     \n",
            " nal)                                                            \n",
            "                                                                 \n",
            " bidirectional_7 (Bidirectio  (None, 32)               18560     \n",
            " nal)                                                            \n",
            "                                                                 \n",
            " dense_6 (Dense)             (None, 64)                2112      \n",
            "                                                                 \n",
            " dropout_3 (Dropout)         (None, 64)                0         \n",
            "                                                                 \n",
            " dense_7 (Dense)             (None, 1)                 65        \n",
            "                                                                 \n",
            "=================================================================\n",
            "Total params: 726,785\n",
            "Trainable params: 726,785\n",
            "Non-trainable params: 0\n",
            "_________________________________________________________________\n",
            "None\n",
            "Epoch 1/10\n"
          ]
        },
        {
          "output_type": "stream",
          "name": "stderr",
          "text": [
            "/usr/local/lib/python3.7/dist-packages/tensorflow/python/util/dispatch.py:1082: UserWarning: \"`binary_crossentropy` received `from_logits=True`, but the `output` argument was produced by a sigmoid or softmax activation and thus does not represent logits. Was this intended?\"\n",
            "  return dispatch_target(*args, **kwargs)\n"
          ]
        },
        {
          "output_type": "stream",
          "name": "stdout",
          "text": [
            "25/25 - 6s - loss: 0.6930 - accuracy: 0.4950 - 6s/epoch - 259ms/step\n",
            "Epoch 2/10\n",
            "25/25 - 1s - loss: 0.6922 - accuracy: 0.5825 - 1s/epoch - 54ms/step\n",
            "Epoch 3/10\n",
            "25/25 - 1s - loss: 0.6907 - accuracy: 0.6500 - 1s/epoch - 54ms/step\n",
            "Epoch 4/10\n",
            "25/25 - 1s - loss: 0.6865 - accuracy: 0.7650 - 1s/epoch - 55ms/step\n",
            "Epoch 5/10\n",
            "25/25 - 1s - loss: 0.6771 - accuracy: 0.8850 - 1s/epoch - 55ms/step\n",
            "Epoch 6/10\n",
            "25/25 - 1s - loss: 0.6436 - accuracy: 0.9025 - 1s/epoch - 55ms/step\n",
            "Epoch 7/10\n",
            "25/25 - 1s - loss: 0.5130 - accuracy: 0.9050 - 1s/epoch - 55ms/step\n",
            "Epoch 8/10\n",
            "25/25 - 1s - loss: 0.3714 - accuracy: 0.9550 - 1s/epoch - 55ms/step\n",
            "Epoch 9/10\n",
            "25/25 - 1s - loss: 0.2426 - accuracy: 0.9550 - 1s/epoch - 54ms/step\n",
            "Epoch 10/10\n",
            "25/25 - 1s - loss: 0.1801 - accuracy: 0.9750 - 1s/epoch - 54ms/step\n",
            "Query no. 4\n",
            "Model: \"sequential_4\"\n",
            "_________________________________________________________________\n",
            " Layer (type)                Output Shape              Param #   \n",
            "=================================================================\n",
            " embedding_4 (Embedding)     (None, None, 64)          640000    \n",
            "                                                                 \n",
            " bidirectional_8 (Bidirectio  (None, None, 128)        66048     \n",
            " nal)                                                            \n",
            "                                                                 \n",
            " bidirectional_9 (Bidirectio  (None, 32)               18560     \n",
            " nal)                                                            \n",
            "                                                                 \n",
            " dense_8 (Dense)             (None, 64)                2112      \n",
            "                                                                 \n",
            " dropout_4 (Dropout)         (None, 64)                0         \n",
            "                                                                 \n",
            " dense_9 (Dense)             (None, 1)                 65        \n",
            "                                                                 \n",
            "=================================================================\n",
            "Total params: 726,785\n",
            "Trainable params: 726,785\n",
            "Non-trainable params: 0\n",
            "_________________________________________________________________\n",
            "None\n",
            "Epoch 1/10\n"
          ]
        },
        {
          "output_type": "stream",
          "name": "stderr",
          "text": [
            "/usr/local/lib/python3.7/dist-packages/tensorflow/python/util/dispatch.py:1082: UserWarning: \"`binary_crossentropy` received `from_logits=True`, but the `output` argument was produced by a sigmoid or softmax activation and thus does not represent logits. Was this intended?\"\n",
            "  return dispatch_target(*args, **kwargs)\n"
          ]
        },
        {
          "output_type": "stream",
          "name": "stdout",
          "text": [
            "32/32 - 8s - loss: 0.6920 - accuracy: 0.5400 - 8s/epoch - 235ms/step\n",
            "Epoch 2/10\n",
            "32/32 - 2s - loss: 0.6895 - accuracy: 0.5920 - 2s/epoch - 54ms/step\n",
            "Epoch 3/10\n",
            "32/32 - 2s - loss: 0.6838 - accuracy: 0.6660 - 2s/epoch - 57ms/step\n",
            "Epoch 4/10\n",
            "32/32 - 2s - loss: 0.6542 - accuracy: 0.7840 - 2s/epoch - 55ms/step\n",
            "Epoch 5/10\n",
            "32/32 - 2s - loss: 0.5216 - accuracy: 0.8800 - 2s/epoch - 56ms/step\n",
            "Epoch 6/10\n",
            "32/32 - 2s - loss: 0.3900 - accuracy: 0.9700 - 2s/epoch - 55ms/step\n",
            "Epoch 7/10\n",
            "32/32 - 2s - loss: 0.2606 - accuracy: 0.9880 - 2s/epoch - 56ms/step\n",
            "Epoch 8/10\n",
            "32/32 - 2s - loss: 0.1647 - accuracy: 0.9940 - 2s/epoch - 57ms/step\n",
            "Epoch 9/10\n",
            "32/32 - 2s - loss: 0.1553 - accuracy: 0.9900 - 2s/epoch - 57ms/step\n",
            "Epoch 10/10\n",
            "32/32 - 2s - loss: 0.1247 - accuracy: 0.9860 - 2s/epoch - 56ms/step\n",
            "Query no. 5\n",
            "Model: \"sequential_5\"\n",
            "_________________________________________________________________\n",
            " Layer (type)                Output Shape              Param #   \n",
            "=================================================================\n",
            " embedding_5 (Embedding)     (None, None, 64)          640000    \n",
            "                                                                 \n",
            " bidirectional_10 (Bidirecti  (None, None, 128)        66048     \n",
            " onal)                                                           \n",
            "                                                                 \n",
            " bidirectional_11 (Bidirecti  (None, 32)               18560     \n",
            " onal)                                                           \n",
            "                                                                 \n",
            " dense_10 (Dense)            (None, 64)                2112      \n",
            "                                                                 \n",
            " dropout_5 (Dropout)         (None, 64)                0         \n",
            "                                                                 \n",
            " dense_11 (Dense)            (None, 1)                 65        \n",
            "                                                                 \n",
            "=================================================================\n",
            "Total params: 726,785\n",
            "Trainable params: 726,785\n",
            "Non-trainable params: 0\n",
            "_________________________________________________________________\n",
            "None\n",
            "Epoch 1/10\n"
          ]
        },
        {
          "output_type": "stream",
          "name": "stderr",
          "text": [
            "/usr/local/lib/python3.7/dist-packages/tensorflow/python/util/dispatch.py:1082: UserWarning: \"`binary_crossentropy` received `from_logits=True`, but the `output` argument was produced by a sigmoid or softmax activation and thus does not represent logits. Was this intended?\"\n",
            "  return dispatch_target(*args, **kwargs)\n"
          ]
        },
        {
          "output_type": "stream",
          "name": "stdout",
          "text": [
            "38/38 - 8s - loss: 0.6933 - accuracy: 0.5067 - 8s/epoch - 207ms/step\n",
            "Epoch 2/10\n",
            "38/38 - 2s - loss: 0.6911 - accuracy: 0.6333 - 2s/epoch - 56ms/step\n",
            "Epoch 3/10\n",
            "38/38 - 2s - loss: 0.6847 - accuracy: 0.7933 - 2s/epoch - 56ms/step\n",
            "Epoch 4/10\n",
            "38/38 - 2s - loss: 0.6566 - accuracy: 0.9200 - 2s/epoch - 56ms/step\n",
            "Epoch 5/10\n",
            "38/38 - 2s - loss: 0.5148 - accuracy: 0.8950 - 2s/epoch - 56ms/step\n",
            "Epoch 6/10\n",
            "38/38 - 2s - loss: 0.3372 - accuracy: 0.9283 - 2s/epoch - 55ms/step\n",
            "Epoch 7/10\n",
            "38/38 - 2s - loss: 0.2213 - accuracy: 0.9700 - 2s/epoch - 55ms/step\n",
            "Epoch 8/10\n",
            "38/38 - 2s - loss: 0.1713 - accuracy: 0.9783 - 2s/epoch - 56ms/step\n",
            "Epoch 9/10\n",
            "38/38 - 2s - loss: 0.2770 - accuracy: 0.9233 - 2s/epoch - 55ms/step\n",
            "Epoch 10/10\n",
            "38/38 - 2s - loss: 0.2000 - accuracy: 0.9517 - 2s/epoch - 56ms/step\n"
          ]
        }
      ]
    },
    {
      "cell_type": "code",
      "source": [
        "lstm_random_results #LSTM with Random Sampling results"
      ],
      "metadata": {
        "colab": {
          "base_uri": "https://localhost:8080/"
        },
        "id": "9LmDn8P7Hjre",
        "outputId": "e9941404-5c2c-4f9f-ef5e-f77a665bb893"
      },
      "execution_count": null,
      "outputs": [
        {
          "output_type": "execute_result",
          "data": {
            "text/plain": [
              "[0.5402222222222223,\n",
              " 0.7966666666666666,\n",
              " 0.8824444444444445,\n",
              " 0.9111111111111111,\n",
              " 0.9022222222222223,\n",
              " 0.8762222222222222]"
            ]
          },
          "metadata": {},
          "execution_count": 21
        }
      ]
    },
    {
      "cell_type": "code",
      "source": [
        "# generate the pool\n",
        "# remove the initial data from the training dataset\n",
        "X_pool = np.delete(X_train, initial_idx, axis=0)\n",
        "y_pool = y_train[pool_idx].values"
      ],
      "metadata": {
        "id": "ogC89m92HaWj"
      },
      "execution_count": null,
      "outputs": []
    },
    {
      "cell_type": "code",
      "source": [
        "set_seed(555)"
      ],
      "metadata": {
        "id": "KVU32TuLOH79"
      },
      "execution_count": null,
      "outputs": []
    },
    {
      "cell_type": "code",
      "source": [
        "# initialize ActiveLearner for uncertainty sampling\n",
        "learner = ActiveLearner(\n",
        "    estimator=keras_lstm,\n",
        "    query_strategy=uncertainty_sampling,\n",
        "    X_training=X_initial, y_training=y_initial, epochs=10, shuffle=True, batch_size=16,verbose=2\n",
        ")"
      ],
      "metadata": {
        "colab": {
          "base_uri": "https://localhost:8080/"
        },
        "id": "puH-NBsrHmT8",
        "outputId": "0eb08495-7334-4a1b-8748-f4b581ba9823"
      },
      "execution_count": null,
      "outputs": [
        {
          "output_type": "stream",
          "name": "stdout",
          "text": [
            "Model: \"sequential_6\"\n",
            "_________________________________________________________________\n",
            " Layer (type)                Output Shape              Param #   \n",
            "=================================================================\n",
            " embedding_6 (Embedding)     (None, None, 64)          640000    \n",
            "                                                                 \n",
            " bidirectional_12 (Bidirecti  (None, None, 128)        66048     \n",
            " onal)                                                           \n",
            "                                                                 \n",
            " bidirectional_13 (Bidirecti  (None, 32)               18560     \n",
            " onal)                                                           \n",
            "                                                                 \n",
            " dense_12 (Dense)            (None, 64)                2112      \n",
            "                                                                 \n",
            " dropout_6 (Dropout)         (None, 64)                0         \n",
            "                                                                 \n",
            " dense_13 (Dense)            (None, 1)                 65        \n",
            "                                                                 \n",
            "=================================================================\n",
            "Total params: 726,785\n",
            "Trainable params: 726,785\n",
            "Non-trainable params: 0\n",
            "_________________________________________________________________\n",
            "None\n",
            "Epoch 1/10\n"
          ]
        },
        {
          "output_type": "stream",
          "name": "stderr",
          "text": [
            "/usr/local/lib/python3.7/dist-packages/tensorflow/python/util/dispatch.py:1082: UserWarning: \"`binary_crossentropy` received `from_logits=True`, but the `output` argument was produced by a sigmoid or softmax activation and thus does not represent logits. Was this intended?\"\n",
            "  return dispatch_target(*args, **kwargs)\n"
          ]
        },
        {
          "output_type": "stream",
          "name": "stdout",
          "text": [
            "7/7 - 6s - loss: 0.6926 - accuracy: 0.5700 - 6s/epoch - 809ms/step\n",
            "Epoch 2/10\n",
            "7/7 - 0s - loss: 0.6914 - accuracy: 0.5600 - 386ms/epoch - 55ms/step\n",
            "Epoch 3/10\n",
            "7/7 - 0s - loss: 0.6910 - accuracy: 0.5300 - 390ms/epoch - 56ms/step\n",
            "Epoch 4/10\n",
            "7/7 - 0s - loss: 0.6903 - accuracy: 0.6000 - 394ms/epoch - 56ms/step\n",
            "Epoch 5/10\n",
            "7/7 - 0s - loss: 0.6886 - accuracy: 0.6500 - 412ms/epoch - 59ms/step\n",
            "Epoch 6/10\n",
            "7/7 - 0s - loss: 0.6861 - accuracy: 0.6700 - 390ms/epoch - 56ms/step\n",
            "Epoch 7/10\n",
            "7/7 - 0s - loss: 0.6872 - accuracy: 0.6600 - 399ms/epoch - 57ms/step\n",
            "Epoch 8/10\n",
            "7/7 - 0s - loss: 0.6849 - accuracy: 0.6900 - 391ms/epoch - 56ms/step\n",
            "Epoch 9/10\n",
            "7/7 - 0s - loss: 0.6824 - accuracy: 0.7100 - 391ms/epoch - 56ms/step\n",
            "Epoch 10/10\n",
            "7/7 - 0s - loss: 0.6798 - accuracy: 0.7000 - 396ms/epoch - 57ms/step\n"
          ]
        }
      ]
    },
    {
      "cell_type": "code",
      "source": [
        "accuracy_score(y_test.astype(int), learner.predict(X_test).flatten().astype(int))"
      ],
      "metadata": {
        "colab": {
          "base_uri": "https://localhost:8080/"
        },
        "id": "d0xTOUp5rIIZ",
        "outputId": "02c43cbf-1b74-4565-b3b8-7d89c52ce302"
      },
      "execution_count": null,
      "outputs": [
        {
          "output_type": "execute_result",
          "data": {
            "text/plain": [
              "0.5402222222222223"
            ]
          },
          "metadata": {},
          "execution_count": 25
        }
      ]
    },
    {
      "cell_type": "code",
      "source": [
        "# the active learning loop\n",
        "lstm_uncertainty_results = [accuracy_score(y_test.astype(int), learner.predict(X_test).flatten().astype(int))]\n",
        "n_queries = 5\n",
        "for idx in range(n_queries):\n",
        "    print('Query no. %d' % (idx + 1))\n",
        "    query_idx, query_instance = learner.query(X_pool, n_instances=100)\n",
        "    learner.teach(\n",
        "        X=X_pool[query_idx], y=y_pool[query_idx], only_new=False,epochs=10, shuffle=True, batch_size=16,verbose=2\n",
        "    )\n",
        "    # remove queried instance from pool\n",
        "    X_pool = np.delete(X_pool, query_idx, axis=0)\n",
        "    y_pool = np.delete(y_pool, query_idx, axis=0)\n",
        "    lstm_uncertainty_results.append(accuracy_score(y_test.astype(int), learner.predict(X_test).flatten().astype(int)))"
      ],
      "metadata": {
        "colab": {
          "base_uri": "https://localhost:8080/"
        },
        "id": "xiW24WmTHqj0",
        "outputId": "e6334ac0-924c-4c4e-b72a-94cb6f383e5b"
      },
      "execution_count": null,
      "outputs": [
        {
          "output_type": "stream",
          "name": "stdout",
          "text": [
            "Query no. 1\n",
            "Model: \"sequential_7\"\n",
            "_________________________________________________________________\n",
            " Layer (type)                Output Shape              Param #   \n",
            "=================================================================\n",
            " embedding_7 (Embedding)     (None, None, 64)          640000    \n",
            "                                                                 \n",
            " bidirectional_14 (Bidirecti  (None, None, 128)        66048     \n",
            " onal)                                                           \n",
            "                                                                 \n",
            " bidirectional_15 (Bidirecti  (None, 32)               18560     \n",
            " onal)                                                           \n",
            "                                                                 \n",
            " dense_14 (Dense)            (None, 64)                2112      \n",
            "                                                                 \n",
            " dropout_7 (Dropout)         (None, 64)                0         \n",
            "                                                                 \n",
            " dense_15 (Dense)            (None, 1)                 65        \n",
            "                                                                 \n",
            "=================================================================\n",
            "Total params: 726,785\n",
            "Trainable params: 726,785\n",
            "Non-trainable params: 0\n",
            "_________________________________________________________________\n",
            "None\n",
            "Epoch 1/10\n"
          ]
        },
        {
          "output_type": "stream",
          "name": "stderr",
          "text": [
            "/usr/local/lib/python3.7/dist-packages/tensorflow/python/util/dispatch.py:1082: UserWarning: \"`binary_crossentropy` received `from_logits=True`, but the `output` argument was produced by a sigmoid or softmax activation and thus does not represent logits. Was this intended?\"\n",
            "  return dispatch_target(*args, **kwargs)\n"
          ]
        },
        {
          "output_type": "stream",
          "name": "stdout",
          "text": [
            "13/13 - 6s - loss: 0.6928 - accuracy: 0.5400 - 6s/epoch - 470ms/step\n",
            "Epoch 2/10\n",
            "13/13 - 1s - loss: 0.6916 - accuracy: 0.6000 - 714ms/epoch - 55ms/step\n",
            "Epoch 3/10\n",
            "13/13 - 1s - loss: 0.6897 - accuracy: 0.6000 - 720ms/epoch - 55ms/step\n",
            "Epoch 4/10\n",
            "13/13 - 1s - loss: 0.6884 - accuracy: 0.5850 - 716ms/epoch - 55ms/step\n",
            "Epoch 5/10\n",
            "13/13 - 1s - loss: 0.6867 - accuracy: 0.5850 - 730ms/epoch - 56ms/step\n",
            "Epoch 6/10\n",
            "13/13 - 1s - loss: 0.6845 - accuracy: 0.5850 - 719ms/epoch - 55ms/step\n",
            "Epoch 7/10\n",
            "13/13 - 1s - loss: 0.6820 - accuracy: 0.5850 - 747ms/epoch - 57ms/step\n",
            "Epoch 8/10\n",
            "13/13 - 1s - loss: 0.6765 - accuracy: 0.5850 - 727ms/epoch - 56ms/step\n",
            "Epoch 9/10\n",
            "13/13 - 1s - loss: 0.6713 - accuracy: 0.5900 - 715ms/epoch - 55ms/step\n",
            "Epoch 10/10\n",
            "13/13 - 1s - loss: 0.6629 - accuracy: 0.5850 - 716ms/epoch - 55ms/step\n",
            "Query no. 2\n",
            "Model: \"sequential_8\"\n",
            "_________________________________________________________________\n",
            " Layer (type)                Output Shape              Param #   \n",
            "=================================================================\n",
            " embedding_8 (Embedding)     (None, None, 64)          640000    \n",
            "                                                                 \n",
            " bidirectional_16 (Bidirecti  (None, None, 128)        66048     \n",
            " onal)                                                           \n",
            "                                                                 \n",
            " bidirectional_17 (Bidirecti  (None, 32)               18560     \n",
            " onal)                                                           \n",
            "                                                                 \n",
            " dense_16 (Dense)            (None, 64)                2112      \n",
            "                                                                 \n",
            " dropout_8 (Dropout)         (None, 64)                0         \n",
            "                                                                 \n",
            " dense_17 (Dense)            (None, 1)                 65        \n",
            "                                                                 \n",
            "=================================================================\n",
            "Total params: 726,785\n",
            "Trainable params: 726,785\n",
            "Non-trainable params: 0\n",
            "_________________________________________________________________\n",
            "None\n",
            "Epoch 1/10\n"
          ]
        },
        {
          "output_type": "stream",
          "name": "stderr",
          "text": [
            "/usr/local/lib/python3.7/dist-packages/tensorflow/python/util/dispatch.py:1082: UserWarning: \"`binary_crossentropy` received `from_logits=True`, but the `output` argument was produced by a sigmoid or softmax activation and thus does not represent logits. Was this intended?\"\n",
            "  return dispatch_target(*args, **kwargs)\n"
          ]
        },
        {
          "output_type": "stream",
          "name": "stdout",
          "text": [
            "19/19 - 7s - loss: 0.6916 - accuracy: 0.5833 - 7s/epoch - 363ms/step\n",
            "Epoch 2/10\n",
            "19/19 - 1s - loss: 0.6874 - accuracy: 0.6067 - 1s/epoch - 56ms/step\n",
            "Epoch 3/10\n",
            "19/19 - 1s - loss: 0.6824 - accuracy: 0.6067 - 1s/epoch - 56ms/step\n",
            "Epoch 4/10\n",
            "19/19 - 1s - loss: 0.6762 - accuracy: 0.6067 - 1s/epoch - 56ms/step\n",
            "Epoch 5/10\n",
            "19/19 - 1s - loss: 0.6633 - accuracy: 0.6067 - 1s/epoch - 57ms/step\n",
            "Epoch 6/10\n",
            "19/19 - 1s - loss: 0.6314 - accuracy: 0.6067 - 1s/epoch - 57ms/step\n",
            "Epoch 7/10\n",
            "19/19 - 1s - loss: 0.5795 - accuracy: 0.6167 - 1s/epoch - 56ms/step\n",
            "Epoch 8/10\n",
            "19/19 - 1s - loss: 0.5230 - accuracy: 0.6500 - 1s/epoch - 56ms/step\n",
            "Epoch 9/10\n",
            "19/19 - 1s - loss: 0.4941 - accuracy: 0.7533 - 1s/epoch - 56ms/step\n",
            "Epoch 10/10\n",
            "19/19 - 1s - loss: 0.4289 - accuracy: 0.7767 - 1s/epoch - 56ms/step\n",
            "Query no. 3\n",
            "Model: \"sequential_9\"\n",
            "_________________________________________________________________\n",
            " Layer (type)                Output Shape              Param #   \n",
            "=================================================================\n",
            " embedding_9 (Embedding)     (None, None, 64)          640000    \n",
            "                                                                 \n",
            " bidirectional_18 (Bidirecti  (None, None, 128)        66048     \n",
            " onal)                                                           \n",
            "                                                                 \n",
            " bidirectional_19 (Bidirecti  (None, 32)               18560     \n",
            " onal)                                                           \n",
            "                                                                 \n",
            " dense_18 (Dense)            (None, 64)                2112      \n",
            "                                                                 \n",
            " dropout_9 (Dropout)         (None, 64)                0         \n",
            "                                                                 \n",
            " dense_19 (Dense)            (None, 1)                 65        \n",
            "                                                                 \n",
            "=================================================================\n",
            "Total params: 726,785\n",
            "Trainable params: 726,785\n",
            "Non-trainable params: 0\n",
            "_________________________________________________________________\n",
            "None\n",
            "Epoch 1/10\n"
          ]
        },
        {
          "output_type": "stream",
          "name": "stderr",
          "text": [
            "/usr/local/lib/python3.7/dist-packages/tensorflow/python/util/dispatch.py:1082: UserWarning: \"`binary_crossentropy` received `from_logits=True`, but the `output` argument was produced by a sigmoid or softmax activation and thus does not represent logits. Was this intended?\"\n",
            "  return dispatch_target(*args, **kwargs)\n"
          ]
        },
        {
          "output_type": "stream",
          "name": "stdout",
          "text": [
            "25/25 - 6s - loss: 0.6884 - accuracy: 0.7050 - 6s/epoch - 237ms/step\n",
            "Epoch 2/10\n",
            "25/25 - 1s - loss: 0.6786 - accuracy: 0.7600 - 1s/epoch - 56ms/step\n",
            "Epoch 3/10\n",
            "25/25 - 2s - loss: 0.6588 - accuracy: 0.7600 - 2s/epoch - 81ms/step\n",
            "Epoch 4/10\n",
            "25/25 - 2s - loss: 0.6221 - accuracy: 0.7525 - 2s/epoch - 70ms/step\n",
            "Epoch 5/10\n",
            "25/25 - 1s - loss: 0.5616 - accuracy: 0.7525 - 1s/epoch - 54ms/step\n",
            "Epoch 6/10\n",
            "25/25 - 1s - loss: 0.5342 - accuracy: 0.7525 - 1s/epoch - 54ms/step\n",
            "Epoch 7/10\n",
            "25/25 - 1s - loss: 0.4598 - accuracy: 0.7650 - 1s/epoch - 55ms/step\n",
            "Epoch 8/10\n",
            "25/25 - 1s - loss: 0.3471 - accuracy: 0.8725 - 1s/epoch - 54ms/step\n",
            "Epoch 9/10\n",
            "25/25 - 1s - loss: 0.2505 - accuracy: 0.9200 - 1s/epoch - 55ms/step\n",
            "Epoch 10/10\n",
            "25/25 - 1s - loss: 0.1974 - accuracy: 0.9575 - 1s/epoch - 55ms/step\n",
            "Query no. 4\n",
            "Model: \"sequential_10\"\n",
            "_________________________________________________________________\n",
            " Layer (type)                Output Shape              Param #   \n",
            "=================================================================\n",
            " embedding_10 (Embedding)    (None, None, 64)          640000    \n",
            "                                                                 \n",
            " bidirectional_20 (Bidirecti  (None, None, 128)        66048     \n",
            " onal)                                                           \n",
            "                                                                 \n",
            " bidirectional_21 (Bidirecti  (None, 32)               18560     \n",
            " onal)                                                           \n",
            "                                                                 \n",
            " dense_20 (Dense)            (None, 64)                2112      \n",
            "                                                                 \n",
            " dropout_10 (Dropout)        (None, 64)                0         \n",
            "                                                                 \n",
            " dense_21 (Dense)            (None, 1)                 65        \n",
            "                                                                 \n",
            "=================================================================\n",
            "Total params: 726,785\n",
            "Trainable params: 726,785\n",
            "Non-trainable params: 0\n",
            "_________________________________________________________________\n",
            "None\n",
            "Epoch 1/10\n"
          ]
        },
        {
          "output_type": "stream",
          "name": "stderr",
          "text": [
            "/usr/local/lib/python3.7/dist-packages/tensorflow/python/util/dispatch.py:1082: UserWarning: \"`binary_crossentropy` received `from_logits=True`, but the `output` argument was produced by a sigmoid or softmax activation and thus does not represent logits. Was this intended?\"\n",
            "  return dispatch_target(*args, **kwargs)\n"
          ]
        },
        {
          "output_type": "stream",
          "name": "stdout",
          "text": [
            "32/32 - 8s - loss: 0.6924 - accuracy: 0.5380 - 8s/epoch - 237ms/step\n",
            "Epoch 2/10\n",
            "32/32 - 2s - loss: 0.6890 - accuracy: 0.6440 - 2s/epoch - 56ms/step\n",
            "Epoch 3/10\n",
            "32/32 - 2s - loss: 0.6853 - accuracy: 0.6400 - 2s/epoch - 55ms/step\n",
            "Epoch 4/10\n",
            "32/32 - 2s - loss: 0.6764 - accuracy: 0.6920 - 2s/epoch - 56ms/step\n",
            "Epoch 5/10\n",
            "32/32 - 2s - loss: 0.6512 - accuracy: 0.7860 - 2s/epoch - 56ms/step\n",
            "Epoch 6/10\n",
            "32/32 - 2s - loss: 0.5742 - accuracy: 0.7840 - 2s/epoch - 57ms/step\n",
            "Epoch 7/10\n",
            "32/32 - 2s - loss: 0.4570 - accuracy: 0.9160 - 2s/epoch - 56ms/step\n",
            "Epoch 8/10\n",
            "32/32 - 2s - loss: 0.3085 - accuracy: 0.9560 - 2s/epoch - 56ms/step\n",
            "Epoch 9/10\n",
            "32/32 - 2s - loss: 0.2079 - accuracy: 0.9820 - 2s/epoch - 56ms/step\n",
            "Epoch 10/10\n",
            "32/32 - 2s - loss: 0.1490 - accuracy: 0.9840 - 2s/epoch - 56ms/step\n",
            "Query no. 5\n",
            "Model: \"sequential_11\"\n",
            "_________________________________________________________________\n",
            " Layer (type)                Output Shape              Param #   \n",
            "=================================================================\n",
            " embedding_11 (Embedding)    (None, None, 64)          640000    \n",
            "                                                                 \n",
            " bidirectional_22 (Bidirecti  (None, None, 128)        66048     \n",
            " onal)                                                           \n",
            "                                                                 \n",
            " bidirectional_23 (Bidirecti  (None, 32)               18560     \n",
            " onal)                                                           \n",
            "                                                                 \n",
            " dense_22 (Dense)            (None, 64)                2112      \n",
            "                                                                 \n",
            " dropout_11 (Dropout)        (None, 64)                0         \n",
            "                                                                 \n",
            " dense_23 (Dense)            (None, 1)                 65        \n",
            "                                                                 \n",
            "=================================================================\n",
            "Total params: 726,785\n",
            "Trainable params: 726,785\n",
            "Non-trainable params: 0\n",
            "_________________________________________________________________\n",
            "None\n",
            "Epoch 1/10\n"
          ]
        },
        {
          "output_type": "stream",
          "name": "stderr",
          "text": [
            "/usr/local/lib/python3.7/dist-packages/tensorflow/python/util/dispatch.py:1082: UserWarning: \"`binary_crossentropy` received `from_logits=True`, but the `output` argument was produced by a sigmoid or softmax activation and thus does not represent logits. Was this intended?\"\n",
            "  return dispatch_target(*args, **kwargs)\n"
          ]
        },
        {
          "output_type": "stream",
          "name": "stdout",
          "text": [
            "38/38 - 8s - loss: 0.6928 - accuracy: 0.5533 - 8s/epoch - 208ms/step\n",
            "Epoch 2/10\n",
            "38/38 - 2s - loss: 0.6904 - accuracy: 0.6267 - 2s/epoch - 56ms/step\n",
            "Epoch 3/10\n",
            "38/38 - 2s - loss: 0.6864 - accuracy: 0.6533 - 2s/epoch - 56ms/step\n",
            "Epoch 4/10\n",
            "38/38 - 2s - loss: 0.6781 - accuracy: 0.6533 - 2s/epoch - 55ms/step\n",
            "Epoch 5/10\n",
            "38/38 - 2s - loss: 0.6468 - accuracy: 0.7300 - 2s/epoch - 56ms/step\n",
            "Epoch 6/10\n",
            "38/38 - 2s - loss: 0.5209 - accuracy: 0.8583 - 2s/epoch - 55ms/step\n",
            "Epoch 7/10\n",
            "38/38 - 2s - loss: 0.2996 - accuracy: 0.9567 - 2s/epoch - 55ms/step\n",
            "Epoch 8/10\n",
            "38/38 - 2s - loss: 0.1708 - accuracy: 0.9967 - 2s/epoch - 55ms/step\n",
            "Epoch 9/10\n",
            "38/38 - 2s - loss: 0.1054 - accuracy: 0.9967 - 2s/epoch - 56ms/step\n",
            "Epoch 10/10\n",
            "38/38 - 2s - loss: 0.0783 - accuracy: 0.9917 - 2s/epoch - 56ms/step\n"
          ]
        }
      ]
    },
    {
      "cell_type": "code",
      "source": [
        "lstm_uncertainty_results #LSTM with uncertainty sampling"
      ],
      "metadata": {
        "colab": {
          "base_uri": "https://localhost:8080/"
        },
        "id": "yj0sGVfBHv10",
        "outputId": "50111d16-ec57-41c1-8ddd-19c67cbd839b"
      },
      "execution_count": null,
      "outputs": [
        {
          "output_type": "execute_result",
          "data": {
            "text/plain": [
              "[0.5402222222222223,\n",
              " 0.5548888888888889,\n",
              " 0.6304444444444445,\n",
              " 0.858,\n",
              " 0.9191111111111111,\n",
              " 0.9411111111111111]"
            ]
          },
          "metadata": {},
          "execution_count": 27
        }
      ]
    },
    {
      "cell_type": "markdown",
      "source": [
        "These results are then saved, run 5 times and then averaged to make the final graphs for the paper"
      ],
      "metadata": {
        "id": "zY-SNC9eS64K"
      }
    },
    {
      "cell_type": "markdown",
      "source": [
        "Draw graphs- an example of a graph for baseline models only. "
      ],
      "metadata": {
        "id": "ym2U4w26D5mm"
      }
    },
    {
      "cell_type": "code",
      "source": [
        "#######################Graph for the baseline model results\n",
        "\n",
        "len_num=len(LR_random_results)\n",
        "with plt.style.context('seaborn-white'):\n",
        "    plt.figure(figsize=(10, 5))\n",
        "    plt.title('Accuracy of Baseline Models during the active learning')\n",
        "    plt.plot(np.arange(len_num), LR_random_results, label=\"LR_random_result\",linestyle='dashed')\n",
        "    plt.scatter(np.arange(len_num), LR_random_results)\n",
        "    plt.plot(np.arange(len_num), LR_uncertainty_results, label=\"LR_uncertainty_result\")\n",
        "    plt.scatter(np.arange(len_num), LR_uncertainty_results)\n",
        "    plt.plot(np.arange(len_num), lstm_random_results, label=\"LSTM_random_result\",linestyle='dashed')\n",
        "    plt.scatter(np.arange(len_num), lstm_random_results)\n",
        "    plt.plot(np.arange(len_num), lstm_uncertainty_results, label=\"LSTM_uncertainty_result\")\n",
        "    plt.scatter(np.arange(len_num), lstm_uncertainty_results)\n",
        "    plt.xlabel('Number of queries')\n",
        "    plt.ylabel('Accuracy')\n",
        "    plt.legend(loc=\"lower right\")\n",
        "    plt.xticks(range(0,len_num))\n",
        "    plt.show()"
      ],
      "metadata": {
        "id": "l6zGj6TJbZUA",
        "colab": {
          "base_uri": "https://localhost:8080/",
          "height": 345
        },
        "outputId": "df471857-bc10-4d1e-b60f-5e817800819c"
      },
      "execution_count": null,
      "outputs": [
        {
          "output_type": "display_data",
          "data": {
            "text/plain": [
              "<Figure size 720x360 with 1 Axes>"
            ],
            "image/png": "[encoded data removed]"
          },
          "metadata": {}
        }
      ]
    }
  ]
}